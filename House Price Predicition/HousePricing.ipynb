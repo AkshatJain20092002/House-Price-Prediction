{
 "cells": [
  {
   "cell_type": "code",
   "execution_count": 1,
   "id": "cab7b085",
   "metadata": {},
   "outputs": [],
   "source": [
    "import numpy as np\n",
    "import pandas as pd\n",
    "import matplotlib.pyplot as plt\n",
    "import seaborn as sns\n",
    "import tensorflow as tf\n",
    "from sklearn.preprocessing import LabelEncoder\n",
    "from tensorflow import keras\n",
    "from tensorflow.keras import layers\n",
    "from tensorflow.keras.callbacks import EarlyStopping\n",
    "from sklearn.preprocessing import StandardScaler\n",
    "from sklearn.model_selection import train_test_split\n",
    "from sklearn.metrics import mean_absolute_error, mean_squared_error, r2_score"
   ]
  },
  {
   "cell_type": "code",
   "execution_count": 2,
   "id": "d916f098",
   "metadata": {},
   "outputs": [
    {
     "data": {
      "text/html": [
       "<div>\n",
       "<style scoped>\n",
       "    .dataframe tbody tr th:only-of-type {\n",
       "        vertical-align: middle;\n",
       "    }\n",
       "\n",
       "    .dataframe tbody tr th {\n",
       "        vertical-align: top;\n",
       "    }\n",
       "\n",
       "    .dataframe thead th {\n",
       "        text-align: right;\n",
       "    }\n",
       "</style>\n",
       "<table border=\"1\" class=\"dataframe\">\n",
       "  <thead>\n",
       "    <tr style=\"text-align: right;\">\n",
       "      <th></th>\n",
       "      <th>price</th>\n",
       "      <th>area</th>\n",
       "      <th>bedrooms</th>\n",
       "      <th>bathrooms</th>\n",
       "      <th>stories</th>\n",
       "      <th>mainroad</th>\n",
       "      <th>guestroom</th>\n",
       "      <th>basement</th>\n",
       "      <th>hotwaterheating</th>\n",
       "      <th>airconditioning</th>\n",
       "      <th>parking</th>\n",
       "      <th>prefarea</th>\n",
       "      <th>furnishingstatus</th>\n",
       "    </tr>\n",
       "  </thead>\n",
       "  <tbody>\n",
       "    <tr>\n",
       "      <th>0</th>\n",
       "      <td>13300000</td>\n",
       "      <td>7420</td>\n",
       "      <td>4</td>\n",
       "      <td>2</td>\n",
       "      <td>3</td>\n",
       "      <td>yes</td>\n",
       "      <td>no</td>\n",
       "      <td>no</td>\n",
       "      <td>no</td>\n",
       "      <td>yes</td>\n",
       "      <td>2</td>\n",
       "      <td>yes</td>\n",
       "      <td>furnished</td>\n",
       "    </tr>\n",
       "    <tr>\n",
       "      <th>1</th>\n",
       "      <td>12250000</td>\n",
       "      <td>8960</td>\n",
       "      <td>4</td>\n",
       "      <td>4</td>\n",
       "      <td>4</td>\n",
       "      <td>yes</td>\n",
       "      <td>no</td>\n",
       "      <td>no</td>\n",
       "      <td>no</td>\n",
       "      <td>yes</td>\n",
       "      <td>3</td>\n",
       "      <td>no</td>\n",
       "      <td>furnished</td>\n",
       "    </tr>\n",
       "    <tr>\n",
       "      <th>2</th>\n",
       "      <td>12250000</td>\n",
       "      <td>9960</td>\n",
       "      <td>3</td>\n",
       "      <td>2</td>\n",
       "      <td>2</td>\n",
       "      <td>yes</td>\n",
       "      <td>no</td>\n",
       "      <td>yes</td>\n",
       "      <td>no</td>\n",
       "      <td>no</td>\n",
       "      <td>2</td>\n",
       "      <td>yes</td>\n",
       "      <td>semi-furnished</td>\n",
       "    </tr>\n",
       "    <tr>\n",
       "      <th>3</th>\n",
       "      <td>12215000</td>\n",
       "      <td>7500</td>\n",
       "      <td>4</td>\n",
       "      <td>2</td>\n",
       "      <td>2</td>\n",
       "      <td>yes</td>\n",
       "      <td>no</td>\n",
       "      <td>yes</td>\n",
       "      <td>no</td>\n",
       "      <td>yes</td>\n",
       "      <td>3</td>\n",
       "      <td>yes</td>\n",
       "      <td>furnished</td>\n",
       "    </tr>\n",
       "    <tr>\n",
       "      <th>4</th>\n",
       "      <td>11410000</td>\n",
       "      <td>7420</td>\n",
       "      <td>4</td>\n",
       "      <td>1</td>\n",
       "      <td>2</td>\n",
       "      <td>yes</td>\n",
       "      <td>yes</td>\n",
       "      <td>yes</td>\n",
       "      <td>no</td>\n",
       "      <td>yes</td>\n",
       "      <td>2</td>\n",
       "      <td>no</td>\n",
       "      <td>furnished</td>\n",
       "    </tr>\n",
       "    <tr>\n",
       "      <th>...</th>\n",
       "      <td>...</td>\n",
       "      <td>...</td>\n",
       "      <td>...</td>\n",
       "      <td>...</td>\n",
       "      <td>...</td>\n",
       "      <td>...</td>\n",
       "      <td>...</td>\n",
       "      <td>...</td>\n",
       "      <td>...</td>\n",
       "      <td>...</td>\n",
       "      <td>...</td>\n",
       "      <td>...</td>\n",
       "      <td>...</td>\n",
       "    </tr>\n",
       "    <tr>\n",
       "      <th>540</th>\n",
       "      <td>1820000</td>\n",
       "      <td>3000</td>\n",
       "      <td>2</td>\n",
       "      <td>1</td>\n",
       "      <td>1</td>\n",
       "      <td>yes</td>\n",
       "      <td>no</td>\n",
       "      <td>yes</td>\n",
       "      <td>no</td>\n",
       "      <td>no</td>\n",
       "      <td>2</td>\n",
       "      <td>no</td>\n",
       "      <td>unfurnished</td>\n",
       "    </tr>\n",
       "    <tr>\n",
       "      <th>541</th>\n",
       "      <td>1767150</td>\n",
       "      <td>2400</td>\n",
       "      <td>3</td>\n",
       "      <td>1</td>\n",
       "      <td>1</td>\n",
       "      <td>no</td>\n",
       "      <td>no</td>\n",
       "      <td>no</td>\n",
       "      <td>no</td>\n",
       "      <td>no</td>\n",
       "      <td>0</td>\n",
       "      <td>no</td>\n",
       "      <td>semi-furnished</td>\n",
       "    </tr>\n",
       "    <tr>\n",
       "      <th>542</th>\n",
       "      <td>1750000</td>\n",
       "      <td>3620</td>\n",
       "      <td>2</td>\n",
       "      <td>1</td>\n",
       "      <td>1</td>\n",
       "      <td>yes</td>\n",
       "      <td>no</td>\n",
       "      <td>no</td>\n",
       "      <td>no</td>\n",
       "      <td>no</td>\n",
       "      <td>0</td>\n",
       "      <td>no</td>\n",
       "      <td>unfurnished</td>\n",
       "    </tr>\n",
       "    <tr>\n",
       "      <th>543</th>\n",
       "      <td>1750000</td>\n",
       "      <td>2910</td>\n",
       "      <td>3</td>\n",
       "      <td>1</td>\n",
       "      <td>1</td>\n",
       "      <td>no</td>\n",
       "      <td>no</td>\n",
       "      <td>no</td>\n",
       "      <td>no</td>\n",
       "      <td>no</td>\n",
       "      <td>0</td>\n",
       "      <td>no</td>\n",
       "      <td>furnished</td>\n",
       "    </tr>\n",
       "    <tr>\n",
       "      <th>544</th>\n",
       "      <td>1750000</td>\n",
       "      <td>3850</td>\n",
       "      <td>3</td>\n",
       "      <td>1</td>\n",
       "      <td>2</td>\n",
       "      <td>yes</td>\n",
       "      <td>no</td>\n",
       "      <td>no</td>\n",
       "      <td>no</td>\n",
       "      <td>no</td>\n",
       "      <td>0</td>\n",
       "      <td>no</td>\n",
       "      <td>unfurnished</td>\n",
       "    </tr>\n",
       "  </tbody>\n",
       "</table>\n",
       "<p>545 rows × 13 columns</p>\n",
       "</div>"
      ],
      "text/plain": [
       "        price  area  bedrooms  bathrooms  stories mainroad guestroom basement  \\\n",
       "0    13300000  7420         4          2        3      yes        no       no   \n",
       "1    12250000  8960         4          4        4      yes        no       no   \n",
       "2    12250000  9960         3          2        2      yes        no      yes   \n",
       "3    12215000  7500         4          2        2      yes        no      yes   \n",
       "4    11410000  7420         4          1        2      yes       yes      yes   \n",
       "..        ...   ...       ...        ...      ...      ...       ...      ...   \n",
       "540   1820000  3000         2          1        1      yes        no      yes   \n",
       "541   1767150  2400         3          1        1       no        no       no   \n",
       "542   1750000  3620         2          1        1      yes        no       no   \n",
       "543   1750000  2910         3          1        1       no        no       no   \n",
       "544   1750000  3850         3          1        2      yes        no       no   \n",
       "\n",
       "    hotwaterheating airconditioning  parking prefarea furnishingstatus  \n",
       "0                no             yes        2      yes        furnished  \n",
       "1                no             yes        3       no        furnished  \n",
       "2                no              no        2      yes   semi-furnished  \n",
       "3                no             yes        3      yes        furnished  \n",
       "4                no             yes        2       no        furnished  \n",
       "..              ...             ...      ...      ...              ...  \n",
       "540              no              no        2       no      unfurnished  \n",
       "541              no              no        0       no   semi-furnished  \n",
       "542              no              no        0       no      unfurnished  \n",
       "543              no              no        0       no        furnished  \n",
       "544              no              no        0       no      unfurnished  \n",
       "\n",
       "[545 rows x 13 columns]"
      ]
     },
     "execution_count": 2,
     "metadata": {},
     "output_type": "execute_result"
    }
   ],
   "source": [
    "file = 'E:/ANN Practice/House Price Predicition/Housing.csv'\n",
    "df = pd.read_csv(file)\n",
    "df"
   ]
  },
  {
   "cell_type": "code",
   "execution_count": 3,
   "id": "bdb0388f",
   "metadata": {},
   "outputs": [
    {
     "name": "stdout",
     "output_type": "stream",
     "text": [
      "<class 'pandas.core.frame.DataFrame'>\n",
      "RangeIndex: 545 entries, 0 to 544\n",
      "Data columns (total 13 columns):\n",
      " #   Column            Non-Null Count  Dtype \n",
      "---  ------            --------------  ----- \n",
      " 0   price             545 non-null    int64 \n",
      " 1   area              545 non-null    int64 \n",
      " 2   bedrooms          545 non-null    int64 \n",
      " 3   bathrooms         545 non-null    int64 \n",
      " 4   stories           545 non-null    int64 \n",
      " 5   mainroad          545 non-null    object\n",
      " 6   guestroom         545 non-null    object\n",
      " 7   basement          545 non-null    object\n",
      " 8   hotwaterheating   545 non-null    object\n",
      " 9   airconditioning   545 non-null    object\n",
      " 10  parking           545 non-null    int64 \n",
      " 11  prefarea          545 non-null    object\n",
      " 12  furnishingstatus  545 non-null    object\n",
      "dtypes: int64(6), object(7)\n",
      "memory usage: 55.5+ KB\n"
     ]
    }
   ],
   "source": [
    "df.info()"
   ]
  },
  {
   "cell_type": "code",
   "execution_count": 4,
   "id": "807f9a1c",
   "metadata": {},
   "outputs": [
    {
     "data": {
      "text/html": [
       "<div>\n",
       "<style scoped>\n",
       "    .dataframe tbody tr th:only-of-type {\n",
       "        vertical-align: middle;\n",
       "    }\n",
       "\n",
       "    .dataframe tbody tr th {\n",
       "        vertical-align: top;\n",
       "    }\n",
       "\n",
       "    .dataframe thead th {\n",
       "        text-align: right;\n",
       "    }\n",
       "</style>\n",
       "<table border=\"1\" class=\"dataframe\">\n",
       "  <thead>\n",
       "    <tr style=\"text-align: right;\">\n",
       "      <th></th>\n",
       "      <th>price</th>\n",
       "      <th>area</th>\n",
       "      <th>bedrooms</th>\n",
       "      <th>bathrooms</th>\n",
       "      <th>stories</th>\n",
       "      <th>parking</th>\n",
       "    </tr>\n",
       "  </thead>\n",
       "  <tbody>\n",
       "    <tr>\n",
       "      <th>count</th>\n",
       "      <td>5.450000e+02</td>\n",
       "      <td>545.000000</td>\n",
       "      <td>545.000000</td>\n",
       "      <td>545.000000</td>\n",
       "      <td>545.000000</td>\n",
       "      <td>545.000000</td>\n",
       "    </tr>\n",
       "    <tr>\n",
       "      <th>mean</th>\n",
       "      <td>4.766729e+06</td>\n",
       "      <td>5150.541284</td>\n",
       "      <td>2.965138</td>\n",
       "      <td>1.286239</td>\n",
       "      <td>1.805505</td>\n",
       "      <td>0.693578</td>\n",
       "    </tr>\n",
       "    <tr>\n",
       "      <th>std</th>\n",
       "      <td>1.870440e+06</td>\n",
       "      <td>2170.141023</td>\n",
       "      <td>0.738064</td>\n",
       "      <td>0.502470</td>\n",
       "      <td>0.867492</td>\n",
       "      <td>0.861586</td>\n",
       "    </tr>\n",
       "    <tr>\n",
       "      <th>min</th>\n",
       "      <td>1.750000e+06</td>\n",
       "      <td>1650.000000</td>\n",
       "      <td>1.000000</td>\n",
       "      <td>1.000000</td>\n",
       "      <td>1.000000</td>\n",
       "      <td>0.000000</td>\n",
       "    </tr>\n",
       "    <tr>\n",
       "      <th>25%</th>\n",
       "      <td>3.430000e+06</td>\n",
       "      <td>3600.000000</td>\n",
       "      <td>2.000000</td>\n",
       "      <td>1.000000</td>\n",
       "      <td>1.000000</td>\n",
       "      <td>0.000000</td>\n",
       "    </tr>\n",
       "    <tr>\n",
       "      <th>50%</th>\n",
       "      <td>4.340000e+06</td>\n",
       "      <td>4600.000000</td>\n",
       "      <td>3.000000</td>\n",
       "      <td>1.000000</td>\n",
       "      <td>2.000000</td>\n",
       "      <td>0.000000</td>\n",
       "    </tr>\n",
       "    <tr>\n",
       "      <th>75%</th>\n",
       "      <td>5.740000e+06</td>\n",
       "      <td>6360.000000</td>\n",
       "      <td>3.000000</td>\n",
       "      <td>2.000000</td>\n",
       "      <td>2.000000</td>\n",
       "      <td>1.000000</td>\n",
       "    </tr>\n",
       "    <tr>\n",
       "      <th>max</th>\n",
       "      <td>1.330000e+07</td>\n",
       "      <td>16200.000000</td>\n",
       "      <td>6.000000</td>\n",
       "      <td>4.000000</td>\n",
       "      <td>4.000000</td>\n",
       "      <td>3.000000</td>\n",
       "    </tr>\n",
       "  </tbody>\n",
       "</table>\n",
       "</div>"
      ],
      "text/plain": [
       "              price          area    bedrooms   bathrooms     stories  \\\n",
       "count  5.450000e+02    545.000000  545.000000  545.000000  545.000000   \n",
       "mean   4.766729e+06   5150.541284    2.965138    1.286239    1.805505   \n",
       "std    1.870440e+06   2170.141023    0.738064    0.502470    0.867492   \n",
       "min    1.750000e+06   1650.000000    1.000000    1.000000    1.000000   \n",
       "25%    3.430000e+06   3600.000000    2.000000    1.000000    1.000000   \n",
       "50%    4.340000e+06   4600.000000    3.000000    1.000000    2.000000   \n",
       "75%    5.740000e+06   6360.000000    3.000000    2.000000    2.000000   \n",
       "max    1.330000e+07  16200.000000    6.000000    4.000000    4.000000   \n",
       "\n",
       "          parking  \n",
       "count  545.000000  \n",
       "mean     0.693578  \n",
       "std      0.861586  \n",
       "min      0.000000  \n",
       "25%      0.000000  \n",
       "50%      0.000000  \n",
       "75%      1.000000  \n",
       "max      3.000000  "
      ]
     },
     "execution_count": 4,
     "metadata": {},
     "output_type": "execute_result"
    }
   ],
   "source": [
    "df.describe()"
   ]
  },
  {
   "cell_type": "code",
   "execution_count": 5,
   "id": "42230221",
   "metadata": {},
   "outputs": [
    {
     "data": {
      "text/plain": [
       "price               0\n",
       "area                0\n",
       "bedrooms            0\n",
       "bathrooms           0\n",
       "stories             0\n",
       "mainroad            0\n",
       "guestroom           0\n",
       "basement            0\n",
       "hotwaterheating     0\n",
       "airconditioning     0\n",
       "parking             0\n",
       "prefarea            0\n",
       "furnishingstatus    0\n",
       "dtype: int64"
      ]
     },
     "execution_count": 5,
     "metadata": {},
     "output_type": "execute_result"
    }
   ],
   "source": [
    "df = df.dropna()\n",
    "df.isnull().sum()"
   ]
  },
  {
   "cell_type": "code",
   "execution_count": 6,
   "id": "016d2ece",
   "metadata": {},
   "outputs": [
    {
     "data": {
      "text/plain": [
       "0"
      ]
     },
     "execution_count": 6,
     "metadata": {},
     "output_type": "execute_result"
    }
   ],
   "source": [
    "df.duplicated().sum()"
   ]
  },
  {
   "cell_type": "code",
   "execution_count": 7,
   "id": "5f7d0cf5",
   "metadata": {},
   "outputs": [
    {
     "data": {
      "image/png": "[encoded data removed]",
      "text/plain": [
       "<Figure size 720x432 with 1 Axes>"
      ]
     },
     "metadata": {
      "needs_background": "light"
     },
     "output_type": "display_data"
    }
   ],
   "source": [
    "plt.figure(figsize=(10, 6))\n",
    "sns.histplot(df['price'])\n",
    "plt.title('Distribution of Price')\n",
    "plt.xlabel('Price')\n",
    "plt.ylabel('Count')\n",
    "plt.show()"
   ]
  },
  {
   "cell_type": "code",
   "execution_count": 8,
   "id": "a83b93de",
   "metadata": {},
   "outputs": [
    {
     "data": {
      "image/png": "[encoded data removed]",
      "text/plain": [
       "<Figure size 1080x1080 with 42 Axes>"
      ]
     },
     "metadata": {
      "needs_background": "light"
     },
     "output_type": "display_data"
    }
   ],
   "source": [
    "sns.pairplot(df[['price', 'area', 'bedrooms', 'bathrooms', 'stories', 'parking']])\n",
    "plt.show()"
   ]
  },
  {
   "cell_type": "code",
   "execution_count": 9,
   "id": "7241e1b1",
   "metadata": {},
   "outputs": [
    {
     "data": {
      "image/png": "[encoded data removed]",
      "text/plain": [
       "<Figure size 576x360 with 1 Axes>"
      ]
     },
     "metadata": {
      "needs_background": "light"
     },
     "output_type": "display_data"
    }
   ],
   "source": [
    "plt.figure(figsize=(8, 5))\n",
    "sns.countplot(x='airconditioning', data=df)\n",
    "plt.title('Counts of Air Conditioning')\n",
    "plt.xlabel('Air Conditioning')\n",
    "plt.ylabel('Count')\n",
    "plt.show()"
   ]
  },
  {
   "cell_type": "code",
   "execution_count": 10,
   "id": "dc82d757",
   "metadata": {},
   "outputs": [
    {
     "data": {
      "image/png": "[encoded data removed]",
      "text/plain": [
       "<Figure size 720x432 with 1 Axes>"
      ]
     },
     "metadata": {
      "needs_background": "light"
     },
     "output_type": "display_data"
    }
   ],
   "source": [
    "plt.figure(figsize=(10, 6))\n",
    "sns.boxplot(x='bedrooms', y='price', data=df)\n",
    "plt.title('Price by Bedrooms')\n",
    "plt.xlabel('Bedrooms')\n",
    "plt.ylabel('Price')\n",
    "plt.show()\n"
   ]
  },
  {
   "cell_type": "code",
   "execution_count": 11,
   "id": "f5026a1a",
   "metadata": {},
   "outputs": [
    {
     "data": {
      "image/png": "[encoded data removed]",
      "text/plain": [
       "<Figure size 720x432 with 1 Axes>"
      ]
     },
     "metadata": {
      "needs_background": "light"
     },
     "output_type": "display_data"
    }
   ],
   "source": [
    "plt.figure(figsize=(10, 6))\n",
    "sns.countplot(x='furnishingstatus', data=df)\n",
    "plt.title('Counts of Furnishing Status')\n",
    "plt.xlabel('Furnishing Status')\n",
    "plt.ylabel('Count')\n",
    "plt.xticks(rotation=45)\n",
    "plt.show()"
   ]
  },
  {
   "cell_type": "code",
   "execution_count": 12,
   "id": "bc023fb6",
   "metadata": {},
   "outputs": [
    {
     "data": {
      "image/png": "[encoded data removed]",
      "text/plain": [
       "<Figure size 576x360 with 1 Axes>"
      ]
     },
     "metadata": {
      "needs_background": "light"
     },
     "output_type": "display_data"
    }
   ],
   "source": [
    "plt.figure(figsize=(8, 5))\n",
    "sns.countplot(x='prefarea', data=df)\n",
    "plt.title('Counts of Preferred Area')\n",
    "plt.xlabel('Preferred Area')\n",
    "plt.ylabel('Count')\n",
    "plt.show()\n"
   ]
  },
  {
   "cell_type": "code",
   "execution_count": 13,
   "id": "8954bbf1",
   "metadata": {},
   "outputs": [
    {
     "data": {
      "image/png": "[encoded data removed]",
      "text/plain": [
       "<Figure size 720x432 with 1 Axes>"
      ]
     },
     "metadata": {
      "needs_background": "light"
     },
     "output_type": "display_data"
    }
   ],
   "source": [
    "plt.figure(figsize=(10, 6))\n",
    "sns.boxplot(x='mainroad', y='price', data=df)\n",
    "plt.title('Price by Mainroad')\n",
    "plt.xlabel('Mainroad')\n",
    "plt.ylabel('Price')\n",
    "plt.show()\n"
   ]
  },
  {
   "cell_type": "code",
   "execution_count": 14,
   "id": "698f1fed",
   "metadata": {},
   "outputs": [
    {
     "data": {
      "image/png": "[encoded data removed]",
      "text/plain": [
       "<Figure size 720x432 with 1 Axes>"
      ]
     },
     "metadata": {
      "needs_background": "light"
     },
     "output_type": "display_data"
    }
   ],
   "source": [
    "plt.figure(figsize=(10, 6))\n",
    "sns.histplot(df['area'], color='green')\n",
    "plt.title('Distribution of Area')\n",
    "plt.xlabel('Area')\n",
    "plt.ylabel('Count')\n",
    "plt.show()\n"
   ]
  },
  {
   "cell_type": "code",
   "execution_count": 17,
   "id": "22db93d3",
   "metadata": {},
   "outputs": [
    {
     "data": {
      "text/html": [
       "<div>\n",
       "<style scoped>\n",
       "    .dataframe tbody tr th:only-of-type {\n",
       "        vertical-align: middle;\n",
       "    }\n",
       "\n",
       "    .dataframe tbody tr th {\n",
       "        vertical-align: top;\n",
       "    }\n",
       "\n",
       "    .dataframe thead th {\n",
       "        text-align: right;\n",
       "    }\n",
       "</style>\n",
       "<table border=\"1\" class=\"dataframe\">\n",
       "  <thead>\n",
       "    <tr style=\"text-align: right;\">\n",
       "      <th></th>\n",
       "      <th>price</th>\n",
       "      <th>area</th>\n",
       "      <th>bedrooms</th>\n",
       "      <th>bathrooms</th>\n",
       "      <th>stories</th>\n",
       "      <th>mainroad</th>\n",
       "      <th>guestroom</th>\n",
       "      <th>basement</th>\n",
       "      <th>hotwaterheating</th>\n",
       "      <th>airconditioning</th>\n",
       "      <th>parking</th>\n",
       "      <th>prefarea</th>\n",
       "      <th>furnishingstatus</th>\n",
       "    </tr>\n",
       "  </thead>\n",
       "  <tbody>\n",
       "    <tr>\n",
       "      <th>0</th>\n",
       "      <td>13300000</td>\n",
       "      <td>7420</td>\n",
       "      <td>4</td>\n",
       "      <td>2</td>\n",
       "      <td>3</td>\n",
       "      <td>1</td>\n",
       "      <td>0</td>\n",
       "      <td>0</td>\n",
       "      <td>0</td>\n",
       "      <td>1</td>\n",
       "      <td>2</td>\n",
       "      <td>1</td>\n",
       "      <td>0</td>\n",
       "    </tr>\n",
       "    <tr>\n",
       "      <th>1</th>\n",
       "      <td>12250000</td>\n",
       "      <td>8960</td>\n",
       "      <td>4</td>\n",
       "      <td>4</td>\n",
       "      <td>4</td>\n",
       "      <td>1</td>\n",
       "      <td>0</td>\n",
       "      <td>0</td>\n",
       "      <td>0</td>\n",
       "      <td>1</td>\n",
       "      <td>3</td>\n",
       "      <td>0</td>\n",
       "      <td>0</td>\n",
       "    </tr>\n",
       "    <tr>\n",
       "      <th>2</th>\n",
       "      <td>12250000</td>\n",
       "      <td>9960</td>\n",
       "      <td>3</td>\n",
       "      <td>2</td>\n",
       "      <td>2</td>\n",
       "      <td>1</td>\n",
       "      <td>0</td>\n",
       "      <td>1</td>\n",
       "      <td>0</td>\n",
       "      <td>0</td>\n",
       "      <td>2</td>\n",
       "      <td>1</td>\n",
       "      <td>1</td>\n",
       "    </tr>\n",
       "    <tr>\n",
       "      <th>3</th>\n",
       "      <td>12215000</td>\n",
       "      <td>7500</td>\n",
       "      <td>4</td>\n",
       "      <td>2</td>\n",
       "      <td>2</td>\n",
       "      <td>1</td>\n",
       "      <td>0</td>\n",
       "      <td>1</td>\n",
       "      <td>0</td>\n",
       "      <td>1</td>\n",
       "      <td>3</td>\n",
       "      <td>1</td>\n",
       "      <td>0</td>\n",
       "    </tr>\n",
       "    <tr>\n",
       "      <th>4</th>\n",
       "      <td>11410000</td>\n",
       "      <td>7420</td>\n",
       "      <td>4</td>\n",
       "      <td>1</td>\n",
       "      <td>2</td>\n",
       "      <td>1</td>\n",
       "      <td>1</td>\n",
       "      <td>1</td>\n",
       "      <td>0</td>\n",
       "      <td>1</td>\n",
       "      <td>2</td>\n",
       "      <td>0</td>\n",
       "      <td>0</td>\n",
       "    </tr>\n",
       "    <tr>\n",
       "      <th>...</th>\n",
       "      <td>...</td>\n",
       "      <td>...</td>\n",
       "      <td>...</td>\n",
       "      <td>...</td>\n",
       "      <td>...</td>\n",
       "      <td>...</td>\n",
       "      <td>...</td>\n",
       "      <td>...</td>\n",
       "      <td>...</td>\n",
       "      <td>...</td>\n",
       "      <td>...</td>\n",
       "      <td>...</td>\n",
       "      <td>...</td>\n",
       "    </tr>\n",
       "    <tr>\n",
       "      <th>540</th>\n",
       "      <td>1820000</td>\n",
       "      <td>3000</td>\n",
       "      <td>2</td>\n",
       "      <td>1</td>\n",
       "      <td>1</td>\n",
       "      <td>1</td>\n",
       "      <td>0</td>\n",
       "      <td>1</td>\n",
       "      <td>0</td>\n",
       "      <td>0</td>\n",
       "      <td>2</td>\n",
       "      <td>0</td>\n",
       "      <td>2</td>\n",
       "    </tr>\n",
       "    <tr>\n",
       "      <th>541</th>\n",
       "      <td>1767150</td>\n",
       "      <td>2400</td>\n",
       "      <td>3</td>\n",
       "      <td>1</td>\n",
       "      <td>1</td>\n",
       "      <td>0</td>\n",
       "      <td>0</td>\n",
       "      <td>0</td>\n",
       "      <td>0</td>\n",
       "      <td>0</td>\n",
       "      <td>0</td>\n",
       "      <td>0</td>\n",
       "      <td>1</td>\n",
       "    </tr>\n",
       "    <tr>\n",
       "      <th>542</th>\n",
       "      <td>1750000</td>\n",
       "      <td>3620</td>\n",
       "      <td>2</td>\n",
       "      <td>1</td>\n",
       "      <td>1</td>\n",
       "      <td>1</td>\n",
       "      <td>0</td>\n",
       "      <td>0</td>\n",
       "      <td>0</td>\n",
       "      <td>0</td>\n",
       "      <td>0</td>\n",
       "      <td>0</td>\n",
       "      <td>2</td>\n",
       "    </tr>\n",
       "    <tr>\n",
       "      <th>543</th>\n",
       "      <td>1750000</td>\n",
       "      <td>2910</td>\n",
       "      <td>3</td>\n",
       "      <td>1</td>\n",
       "      <td>1</td>\n",
       "      <td>0</td>\n",
       "      <td>0</td>\n",
       "      <td>0</td>\n",
       "      <td>0</td>\n",
       "      <td>0</td>\n",
       "      <td>0</td>\n",
       "      <td>0</td>\n",
       "      <td>0</td>\n",
       "    </tr>\n",
       "    <tr>\n",
       "      <th>544</th>\n",
       "      <td>1750000</td>\n",
       "      <td>3850</td>\n",
       "      <td>3</td>\n",
       "      <td>1</td>\n",
       "      <td>2</td>\n",
       "      <td>1</td>\n",
       "      <td>0</td>\n",
       "      <td>0</td>\n",
       "      <td>0</td>\n",
       "      <td>0</td>\n",
       "      <td>0</td>\n",
       "      <td>0</td>\n",
       "      <td>2</td>\n",
       "    </tr>\n",
       "  </tbody>\n",
       "</table>\n",
       "<p>545 rows × 13 columns</p>\n",
       "</div>"
      ],
      "text/plain": [
       "        price  area  bedrooms  bathrooms  stories  mainroad  guestroom  \\\n",
       "0    13300000  7420         4          2        3         1          0   \n",
       "1    12250000  8960         4          4        4         1          0   \n",
       "2    12250000  9960         3          2        2         1          0   \n",
       "3    12215000  7500         4          2        2         1          0   \n",
       "4    11410000  7420         4          1        2         1          1   \n",
       "..        ...   ...       ...        ...      ...       ...        ...   \n",
       "540   1820000  3000         2          1        1         1          0   \n",
       "541   1767150  2400         3          1        1         0          0   \n",
       "542   1750000  3620         2          1        1         1          0   \n",
       "543   1750000  2910         3          1        1         0          0   \n",
       "544   1750000  3850         3          1        2         1          0   \n",
       "\n",
       "     basement  hotwaterheating  airconditioning  parking  prefarea  \\\n",
       "0           0                0                1        2         1   \n",
       "1           0                0                1        3         0   \n",
       "2           1                0                0        2         1   \n",
       "3           1                0                1        3         1   \n",
       "4           1                0                1        2         0   \n",
       "..        ...              ...              ...      ...       ...   \n",
       "540         1                0                0        2         0   \n",
       "541         0                0                0        0         0   \n",
       "542         0                0                0        0         0   \n",
       "543         0                0                0        0         0   \n",
       "544         0                0                0        0         0   \n",
       "\n",
       "     furnishingstatus  \n",
       "0                   0  \n",
       "1                   0  \n",
       "2                   1  \n",
       "3                   0  \n",
       "4                   0  \n",
       "..                ...  \n",
       "540                 2  \n",
       "541                 1  \n",
       "542                 2  \n",
       "543                 0  \n",
       "544                 2  \n",
       "\n",
       "[545 rows x 13 columns]"
      ]
     },
     "execution_count": 17,
     "metadata": {},
     "output_type": "execute_result"
    }
   ],
   "source": [
    "le=LabelEncoder()\n",
    "df[\"furnishingstatus\"]=le.fit_transform(df[\"furnishingstatus\"])\n",
    "df[\"mainroad\"]=le.fit_transform(df[\"mainroad\"])\n",
    "df[\"guestroom\"]=le.fit_transform(df[\"guestroom\"])\n",
    "df[\"basement\"]=le.fit_transform(df[\"basement\"])\n",
    "df[\"hotwaterheating\"]=le.fit_transform(df[\"hotwaterheating\"])\n",
    "df[\"airconditioning\"]=le.fit_transform(df[\"airconditioning\"])\n",
    "df[\"prefarea\"]=le.fit_transform(df[\"prefarea\"])\n",
    "df"
   ]
  },
  {
   "cell_type": "code",
   "execution_count": 18,
   "id": "6a7b217e",
   "metadata": {},
   "outputs": [
    {
     "data": {
      "image/png": "[encoded data removed]",
      "text/plain": [
       "<Figure size 432x288 with 2 Axes>"
      ]
     },
     "metadata": {
      "needs_background": "light"
     },
     "output_type": "display_data"
    }
   ],
   "source": [
    "sns.heatmap(df.corr())\n",
    "plt.title('Correlation Heatmap')\n",
    "plt.show()"
   ]
  },
  {
   "cell_type": "code",
   "execution_count": 20,
   "id": "9480f74d",
   "metadata": {},
   "outputs": [
    {
     "name": "stderr",
     "output_type": "stream",
     "text": [
      "No handles with labels found to put in legend.\n"
     ]
    },
    {
     "data": {
      "image/png": "[encoded data removed]",
      "text/plain": [
       "<Figure size 432x288 with 1 Axes>"
      ]
     },
     "metadata": {
      "needs_background": "light"
     },
     "output_type": "display_data"
    }
   ],
   "source": [
    "plt.scatter(df[\"area\"], df[\"price\"])\n",
    "plt.xlabel('Area')\n",
    "plt.ylabel('Price')\n",
    "plt.legend(title='Area Category')\n",
    "plt.show()"
   ]
  },
  {
   "cell_type": "code",
   "execution_count": 22,
   "id": "01f80152",
   "metadata": {},
   "outputs": [
    {
     "data": {
      "text/html": [
       "<div>\n",
       "<style scoped>\n",
       "    .dataframe tbody tr th:only-of-type {\n",
       "        vertical-align: middle;\n",
       "    }\n",
       "\n",
       "    .dataframe tbody tr th {\n",
       "        vertical-align: top;\n",
       "    }\n",
       "\n",
       "    .dataframe thead th {\n",
       "        text-align: right;\n",
       "    }\n",
       "</style>\n",
       "<table border=\"1\" class=\"dataframe\">\n",
       "  <thead>\n",
       "    <tr style=\"text-align: right;\">\n",
       "      <th></th>\n",
       "      <th>price</th>\n",
       "      <th>area</th>\n",
       "      <th>bedrooms</th>\n",
       "      <th>bathrooms</th>\n",
       "      <th>stories</th>\n",
       "      <th>mainroad</th>\n",
       "      <th>guestroom</th>\n",
       "      <th>basement</th>\n",
       "      <th>hotwaterheating</th>\n",
       "      <th>airconditioning</th>\n",
       "      <th>parking</th>\n",
       "      <th>prefarea</th>\n",
       "      <th>furnishingstatus</th>\n",
       "    </tr>\n",
       "  </thead>\n",
       "  <tbody>\n",
       "    <tr>\n",
       "      <th>0</th>\n",
       "      <td>13300000</td>\n",
       "      <td>7420</td>\n",
       "      <td>4</td>\n",
       "      <td>2</td>\n",
       "      <td>3</td>\n",
       "      <td>1</td>\n",
       "      <td>0</td>\n",
       "      <td>0</td>\n",
       "      <td>0</td>\n",
       "      <td>1</td>\n",
       "      <td>2</td>\n",
       "      <td>1</td>\n",
       "      <td>0</td>\n",
       "    </tr>\n",
       "    <tr>\n",
       "      <th>1</th>\n",
       "      <td>12250000</td>\n",
       "      <td>8960</td>\n",
       "      <td>4</td>\n",
       "      <td>4</td>\n",
       "      <td>4</td>\n",
       "      <td>1</td>\n",
       "      <td>0</td>\n",
       "      <td>0</td>\n",
       "      <td>0</td>\n",
       "      <td>1</td>\n",
       "      <td>3</td>\n",
       "      <td>0</td>\n",
       "      <td>0</td>\n",
       "    </tr>\n",
       "    <tr>\n",
       "      <th>3</th>\n",
       "      <td>12215000</td>\n",
       "      <td>7500</td>\n",
       "      <td>4</td>\n",
       "      <td>2</td>\n",
       "      <td>2</td>\n",
       "      <td>1</td>\n",
       "      <td>0</td>\n",
       "      <td>1</td>\n",
       "      <td>0</td>\n",
       "      <td>1</td>\n",
       "      <td>3</td>\n",
       "      <td>1</td>\n",
       "      <td>0</td>\n",
       "    </tr>\n",
       "    <tr>\n",
       "      <th>4</th>\n",
       "      <td>11410000</td>\n",
       "      <td>7420</td>\n",
       "      <td>4</td>\n",
       "      <td>1</td>\n",
       "      <td>2</td>\n",
       "      <td>1</td>\n",
       "      <td>1</td>\n",
       "      <td>1</td>\n",
       "      <td>0</td>\n",
       "      <td>1</td>\n",
       "      <td>2</td>\n",
       "      <td>0</td>\n",
       "      <td>0</td>\n",
       "    </tr>\n",
       "    <tr>\n",
       "      <th>5</th>\n",
       "      <td>10850000</td>\n",
       "      <td>7500</td>\n",
       "      <td>3</td>\n",
       "      <td>3</td>\n",
       "      <td>1</td>\n",
       "      <td>1</td>\n",
       "      <td>0</td>\n",
       "      <td>1</td>\n",
       "      <td>0</td>\n",
       "      <td>1</td>\n",
       "      <td>2</td>\n",
       "      <td>1</td>\n",
       "      <td>1</td>\n",
       "    </tr>\n",
       "    <tr>\n",
       "      <th>...</th>\n",
       "      <td>...</td>\n",
       "      <td>...</td>\n",
       "      <td>...</td>\n",
       "      <td>...</td>\n",
       "      <td>...</td>\n",
       "      <td>...</td>\n",
       "      <td>...</td>\n",
       "      <td>...</td>\n",
       "      <td>...</td>\n",
       "      <td>...</td>\n",
       "      <td>...</td>\n",
       "      <td>...</td>\n",
       "      <td>...</td>\n",
       "    </tr>\n",
       "    <tr>\n",
       "      <th>539</th>\n",
       "      <td>1855000</td>\n",
       "      <td>2990</td>\n",
       "      <td>2</td>\n",
       "      <td>1</td>\n",
       "      <td>1</td>\n",
       "      <td>0</td>\n",
       "      <td>0</td>\n",
       "      <td>0</td>\n",
       "      <td>0</td>\n",
       "      <td>0</td>\n",
       "      <td>1</td>\n",
       "      <td>0</td>\n",
       "      <td>2</td>\n",
       "    </tr>\n",
       "    <tr>\n",
       "      <th>540</th>\n",
       "      <td>1820000</td>\n",
       "      <td>3000</td>\n",
       "      <td>2</td>\n",
       "      <td>1</td>\n",
       "      <td>1</td>\n",
       "      <td>1</td>\n",
       "      <td>0</td>\n",
       "      <td>1</td>\n",
       "      <td>0</td>\n",
       "      <td>0</td>\n",
       "      <td>2</td>\n",
       "      <td>0</td>\n",
       "      <td>2</td>\n",
       "    </tr>\n",
       "    <tr>\n",
       "      <th>542</th>\n",
       "      <td>1750000</td>\n",
       "      <td>3620</td>\n",
       "      <td>2</td>\n",
       "      <td>1</td>\n",
       "      <td>1</td>\n",
       "      <td>1</td>\n",
       "      <td>0</td>\n",
       "      <td>0</td>\n",
       "      <td>0</td>\n",
       "      <td>0</td>\n",
       "      <td>0</td>\n",
       "      <td>0</td>\n",
       "      <td>2</td>\n",
       "    </tr>\n",
       "    <tr>\n",
       "      <th>543</th>\n",
       "      <td>1750000</td>\n",
       "      <td>2910</td>\n",
       "      <td>3</td>\n",
       "      <td>1</td>\n",
       "      <td>1</td>\n",
       "      <td>0</td>\n",
       "      <td>0</td>\n",
       "      <td>0</td>\n",
       "      <td>0</td>\n",
       "      <td>0</td>\n",
       "      <td>0</td>\n",
       "      <td>0</td>\n",
       "      <td>0</td>\n",
       "    </tr>\n",
       "    <tr>\n",
       "      <th>544</th>\n",
       "      <td>1750000</td>\n",
       "      <td>3850</td>\n",
       "      <td>3</td>\n",
       "      <td>1</td>\n",
       "      <td>2</td>\n",
       "      <td>1</td>\n",
       "      <td>0</td>\n",
       "      <td>0</td>\n",
       "      <td>0</td>\n",
       "      <td>0</td>\n",
       "      <td>0</td>\n",
       "      <td>0</td>\n",
       "      <td>2</td>\n",
       "    </tr>\n",
       "  </tbody>\n",
       "</table>\n",
       "<p>492 rows × 13 columns</p>\n",
       "</div>"
      ],
      "text/plain": [
       "        price  area  bedrooms  bathrooms  stories  mainroad  guestroom  \\\n",
       "0    13300000  7420         4          2        3         1          0   \n",
       "1    12250000  8960         4          4        4         1          0   \n",
       "3    12215000  7500         4          2        2         1          0   \n",
       "4    11410000  7420         4          1        2         1          1   \n",
       "5    10850000  7500         3          3        1         1          0   \n",
       "..        ...   ...       ...        ...      ...       ...        ...   \n",
       "539   1855000  2990         2          1        1         0          0   \n",
       "540   1820000  3000         2          1        1         1          0   \n",
       "542   1750000  3620         2          1        1         1          0   \n",
       "543   1750000  2910         3          1        1         0          0   \n",
       "544   1750000  3850         3          1        2         1          0   \n",
       "\n",
       "     basement  hotwaterheating  airconditioning  parking  prefarea  \\\n",
       "0           0                0                1        2         1   \n",
       "1           0                0                1        3         0   \n",
       "3           1                0                1        3         1   \n",
       "4           1                0                1        2         0   \n",
       "5           1                0                1        2         1   \n",
       "..        ...              ...              ...      ...       ...   \n",
       "539         0                0                0        1         0   \n",
       "540         1                0                0        2         0   \n",
       "542         0                0                0        0         0   \n",
       "543         0                0                0        0         0   \n",
       "544         0                0                0        0         0   \n",
       "\n",
       "     furnishingstatus  \n",
       "0                   0  \n",
       "1                   0  \n",
       "3                   0  \n",
       "4                   0  \n",
       "5                   1  \n",
       "..                ...  \n",
       "539                 2  \n",
       "540                 2  \n",
       "542                 2  \n",
       "543                 0  \n",
       "544                 2  \n",
       "\n",
       "[492 rows x 13 columns]"
      ]
     },
     "execution_count": 22,
     "metadata": {},
     "output_type": "execute_result"
    }
   ],
   "source": [
    "data =df.copy()\n",
    "q5 = df[\"area\"].quantile(0.05)\n",
    "q95 = df[\"area\"].quantile(0.95)\n",
    "data = df[(df[\"area\"] >= q5) & (data[\"area\"] <= q95)]\n",
    "data"
   ]
  },
  {
   "cell_type": "code",
   "execution_count": 23,
   "id": "182aa0ae",
   "metadata": {},
   "outputs": [
    {
     "data": {
      "image/png": "[encoded data removed]",
      "text/plain": [
       "<Figure size 432x288 with 1 Axes>"
      ]
     },
     "metadata": {
      "needs_background": "light"
     },
     "output_type": "display_data"
    }
   ],
   "source": [
    "sns.boxplot(x=data['area'])\n",
    "plt.show()"
   ]
  },
  {
   "cell_type": "code",
   "execution_count": 52,
   "id": "644d5e87",
   "metadata": {},
   "outputs": [
    {
     "data": {
      "text/plain": [
       "(492, 13)"
      ]
     },
     "execution_count": 52,
     "metadata": {},
     "output_type": "execute_result"
    }
   ],
   "source": [
    "data.shape"
   ]
  },
  {
   "cell_type": "code",
   "execution_count": 53,
   "id": "6a890d3a",
   "metadata": {},
   "outputs": [],
   "source": [
    "X = data.drop(['price'],axis=1)\n",
    "y = data['price']"
   ]
  },
  {
   "cell_type": "code",
   "execution_count": 64,
   "id": "2fd212e8",
   "metadata": {},
   "outputs": [],
   "source": [
    "X_train, X_test, y_train, y_test = train_test_split(X, y, test_size=0.2, random_state=42)\n"
   ]
  },
  {
   "cell_type": "code",
   "execution_count": 65,
   "id": "2821d1cd",
   "metadata": {},
   "outputs": [],
   "source": [
    "sc = StandardScaler()\n",
    "X_train = sc.fit_transform(X_train)\n",
    "X_test = sc.transform(X_test)"
   ]
  },
  {
   "cell_type": "code",
   "execution_count": 66,
   "id": "2c9c6e37",
   "metadata": {},
   "outputs": [
    {
     "name": "stdout",
     "output_type": "stream",
     "text": [
      "(393, 12)\n",
      "(99, 12)\n"
     ]
    }
   ],
   "source": [
    "print(X_train.shape)\n",
    "print(X_test.shape)"
   ]
  },
  {
   "cell_type": "code",
   "execution_count": 67,
   "id": "ade5fcbd",
   "metadata": {},
   "outputs": [],
   "source": [
    "#hyperparameters \n",
    "units1 = 128\n",
    "activation1 = 'relu'\n",
    "units2 = 128\n",
    "activation2 = 'relu'\n",
    "lr = 1e-3"
   ]
  },
  {
   "cell_type": "code",
   "execution_count": 68,
   "id": "e2bb5203",
   "metadata": {},
   "outputs": [
    {
     "name": "stdout",
     "output_type": "stream",
     "text": [
      "Model: \"sequential_4\"\n",
      "_________________________________________________________________\n",
      " Layer (type)                Output Shape              Param #   \n",
      "=================================================================\n",
      " dense_9 (Dense)             (None, 128)               1664      \n",
      "                                                                 \n",
      " dense_10 (Dense)            (None, 128)               16512     \n",
      "                                                                 \n",
      " dense_11 (Dense)            (None, 1)                 129       \n",
      "                                                                 \n",
      "=================================================================\n",
      "Total params: 18305 (71.50 KB)\n",
      "Trainable params: 18305 (71.50 KB)\n",
      "Non-trainable params: 0 (0.00 Byte)\n",
      "_________________________________________________________________\n"
     ]
    }
   ],
   "source": [
    "model = keras.Sequential()\n",
    "model.add(layers.Input(shape=(12,)))\n",
    "model.add(layers.Dense(units=units1, activation=activation1))\n",
    "model.add(layers.Dense(units=units2, activation=activation2))\n",
    "model.add(layers.Dense(1, activation='linear'))\n",
    "model.summary()"
   ]
  },
  {
   "cell_type": "code",
   "execution_count": 69,
   "id": "9ff894ad",
   "metadata": {},
   "outputs": [],
   "source": [
    "model.compile(optimizer=keras.optimizers.Adam(learning_rate=lr), loss='mean_squared_error', metrics=['mean_absolute_error'])"
   ]
  },
  {
   "cell_type": "code",
   "execution_count": 70,
   "id": "8e26656d",
   "metadata": {},
   "outputs": [],
   "source": [
    "early_stopping = EarlyStopping(monitor='val_loss', patience=10, restore_best_weights=True)"
   ]
  },
  {
   "cell_type": "code",
   "execution_count": 71,
   "id": "f22509c1",
   "metadata": {},
   "outputs": [
    {
     "name": "stdout",
     "output_type": "stream",
     "text": [
      "Epoch 1/100\n",
      "13/13 [==============================] - 1s 22ms/step - loss: 26264303828992.0000 - mean_absolute_error: 4798783.0000 - val_loss: 26540221923328.0000 - val_mean_absolute_error: 4734720.5000\n",
      "Epoch 2/100\n",
      "13/13 [==============================] - 0s 6ms/step - loss: 26264282857472.0000 - mean_absolute_error: 4798780.0000 - val_loss: 26540192563200.0000 - val_mean_absolute_error: 4734716.5000\n",
      "Epoch 3/100\n",
      "13/13 [==============================] - 0s 5ms/step - loss: 26264247205888.0000 - mean_absolute_error: 4798776.5000 - val_loss: 26540140134400.0000 - val_mean_absolute_error: 4734712.0000\n",
      "Epoch 4/100\n",
      "13/13 [==============================] - 0s 6ms/step - loss: 26264177999872.0000 - mean_absolute_error: 4798771.0000 - val_loss: 26540068831232.0000 - val_mean_absolute_error: 4734705.0000\n",
      "Epoch 5/100\n",
      "13/13 [==============================] - 0s 6ms/step - loss: 26264077336576.0000 - mean_absolute_error: 4798761.5000 - val_loss: 26539947196416.0000 - val_mean_absolute_error: 4734694.0000\n",
      "Epoch 6/100\n",
      "13/13 [==============================] - 0s 4ms/step - loss: 26263930535936.0000 - mean_absolute_error: 4798747.5000 - val_loss: 26539777327104.0000 - val_mean_absolute_error: 4734678.5000\n",
      "Epoch 7/100\n",
      "13/13 [==============================] - 0s 5ms/step - loss: 26263725015040.0000 - mean_absolute_error: 4798729.0000 - val_loss: 26539538251776.0000 - val_mean_absolute_error: 4734657.0000\n",
      "Epoch 8/100\n",
      "13/13 [==============================] - 0s 4ms/step - loss: 26263420928000.0000 - mean_absolute_error: 4798702.0000 - val_loss: 26539213193216.0000 - val_mean_absolute_error: 4734628.0000\n",
      "Epoch 9/100\n",
      "13/13 [==============================] - 0s 5ms/step - loss: 26263020371968.0000 - mean_absolute_error: 4798666.5000 - val_loss: 26538772791296.0000 - val_mean_absolute_error: 4734588.5000\n",
      "Epoch 10/100\n",
      "13/13 [==============================] - 0s 5ms/step - loss: 26262487695360.0000 - mean_absolute_error: 4798619.5000 - val_loss: 26538198171648.0000 - val_mean_absolute_error: 4734538.5000\n",
      "Epoch 11/100\n",
      "13/13 [==============================] - 0s 5ms/step - loss: 26261783052288.0000 - mean_absolute_error: 4798559.5000 - val_loss: 26537495625728.0000 - val_mean_absolute_error: 4734477.5000\n",
      "Epoch 12/100\n",
      "13/13 [==============================] - 0s 5ms/step - loss: 26260919025664.0000 - mean_absolute_error: 4798484.5000 - val_loss: 26536595947520.0000 - val_mean_absolute_error: 4734399.5000\n",
      "Epoch 13/100\n",
      "13/13 [==============================] - 0s 6ms/step - loss: 26259824312320.0000 - mean_absolute_error: 4798391.5000 - val_loss: 26535503331328.0000 - val_mean_absolute_error: 4734305.5000\n",
      "Epoch 14/100\n",
      "13/13 [==============================] - 0s 4ms/step - loss: 26258498912256.0000 - mean_absolute_error: 4798278.5000 - val_loss: 26534163251200.0000 - val_mean_absolute_error: 4734192.5000\n",
      "Epoch 15/100\n",
      "13/13 [==============================] - 0s 5ms/step - loss: 26256921853952.0000 - mean_absolute_error: 4798144.0000 - val_loss: 26532640718848.0000 - val_mean_absolute_error: 4734063.0000\n",
      "Epoch 16/100\n",
      "13/13 [==============================] - 0s 4ms/step - loss: 26255105720320.0000 - mean_absolute_error: 4797989.0000 - val_loss: 26530805710848.0000 - val_mean_absolute_error: 4733908.0000\n",
      "Epoch 17/100\n",
      "13/13 [==============================] - 0s 6ms/step - loss: 26252878544896.0000 - mean_absolute_error: 4797803.5000 - val_loss: 26528723238912.0000 - val_mean_absolute_error: 4733733.0000\n",
      "Epoch 18/100\n",
      "13/13 [==============================] - 0s 6ms/step - loss: 26250347282432.0000 - mean_absolute_error: 4797591.0000 - val_loss: 26526254891008.0000 - val_mean_absolute_error: 4733527.0000\n",
      "Epoch 19/100\n",
      "13/13 [==============================] - 0s 5ms/step - loss: 26247499350016.0000 - mean_absolute_error: 4797351.5000 - val_loss: 26523457290240.0000 - val_mean_absolute_error: 4733293.5000\n",
      "Epoch 20/100\n",
      "13/13 [==============================] - 0s 5ms/step - loss: 26244156489728.0000 - mean_absolute_error: 4797075.0000 - val_loss: 26520416419840.0000 - val_mean_absolute_error: 4733039.5000\n",
      "Epoch 21/100\n",
      "13/13 [==============================] - 0s 5ms/step - loss: 26240555679744.0000 - mean_absolute_error: 4796773.0000 - val_loss: 26516943536128.0000 - val_mean_absolute_error: 4732750.5000\n",
      "Epoch 22/100\n",
      "13/13 [==============================] - 0s 6ms/step - loss: 26236491399168.0000 - mean_absolute_error: 4796429.5000 - val_loss: 26513042833408.0000 - val_mean_absolute_error: 4732427.0000\n",
      "Epoch 23/100\n",
      "13/13 [==============================] - 0s 6ms/step - loss: 26231934287872.0000 - mean_absolute_error: 4796052.0000 - val_loss: 26508871598080.0000 - val_mean_absolute_error: 4732080.0000\n",
      "Epoch 24/100\n",
      "13/13 [==============================] - 0s 6ms/step - loss: 26226917900288.0000 - mean_absolute_error: 4795635.5000 - val_loss: 26504375304192.0000 - val_mean_absolute_error: 4731705.0000\n",
      "Epoch 25/100\n",
      "13/13 [==============================] - 0s 6ms/step - loss: 26221643563008.0000 - mean_absolute_error: 4795193.5000 - val_loss: 26499281321984.0000 - val_mean_absolute_error: 4731283.5000\n",
      "Epoch 26/100\n",
      "13/13 [==============================] - 0s 5ms/step - loss: 26215599570944.0000 - mean_absolute_error: 4794695.0000 - val_loss: 26493814046720.0000 - val_mean_absolute_error: 4730830.5000\n",
      "Epoch 27/100\n",
      "13/13 [==============================] - 0s 5ms/step - loss: 26209096302592.0000 - mean_absolute_error: 4794150.5000 - val_loss: 26487663099904.0000 - val_mean_absolute_error: 4730323.5000\n",
      "Epoch 28/100\n",
      "13/13 [==============================] - 0s 6ms/step - loss: 26202114883584.0000 - mean_absolute_error: 4793567.0000 - val_loss: 26481094819840.0000 - val_mean_absolute_error: 4729781.5000\n",
      "Epoch 29/100\n",
      "13/13 [==============================] - 0s 6ms/step - loss: 26194166677504.0000 - mean_absolute_error: 4792921.0000 - val_loss: 26474211966976.0000 - val_mean_absolute_error: 4729212.0000\n",
      "Epoch 30/100\n",
      "13/13 [==============================] - 0s 6ms/step - loss: 26185956327424.0000 - mean_absolute_error: 4792238.0000 - val_loss: 26466421047296.0000 - val_mean_absolute_error: 4728572.0000\n",
      "Epoch 31/100\n",
      "13/13 [==============================] - 0s 5ms/step - loss: 26176932282368.0000 - mean_absolute_error: 4791498.5000 - val_loss: 26458131005440.0000 - val_mean_absolute_error: 4727892.0000\n",
      "Epoch 32/100\n",
      "13/13 [==============================] - 0s 5ms/step - loss: 26167188914176.0000 - mean_absolute_error: 4790687.5000 - val_loss: 26449216012288.0000 - val_mean_absolute_error: 4727160.0000\n",
      "Epoch 33/100\n",
      "13/13 [==============================] - 0s 6ms/step - loss: 26156908675072.0000 - mean_absolute_error: 4789843.0000 - val_loss: 26439896268800.0000 - val_mean_absolute_error: 4726394.5000\n",
      "Epoch 34/100\n",
      "13/13 [==============================] - 0s 5ms/step - loss: 26145657454592.0000 - mean_absolute_error: 4788914.0000 - val_loss: 26429787996160.0000 - val_mean_absolute_error: 4725565.0000\n",
      "Epoch 35/100\n",
      "13/13 [==============================] - 0s 4ms/step - loss: 26133993095168.0000 - mean_absolute_error: 4787944.5000 - val_loss: 26418878611456.0000 - val_mean_absolute_error: 4724672.5000\n",
      "Epoch 36/100\n",
      "13/13 [==============================] - 0s 5ms/step - loss: 26120990752768.0000 - mean_absolute_error: 4786891.0000 - val_loss: 26407742734336.0000 - val_mean_absolute_error: 4723758.0000\n",
      "Epoch 37/100\n",
      "13/13 [==============================] - 0s 6ms/step - loss: 26108120530944.0000 - mean_absolute_error: 4785812.0000 - val_loss: 26395493269504.0000 - val_mean_absolute_error: 4722757.0000\n",
      "Epoch 38/100\n",
      "13/13 [==============================] - 0s 5ms/step - loss: 26094080098304.0000 - mean_absolute_error: 4784650.0000 - val_loss: 26382771945472.0000 - val_mean_absolute_error: 4721714.0000\n",
      "Epoch 39/100\n",
      "13/13 [==============================] - 0s 5ms/step - loss: 26078772985856.0000 - mean_absolute_error: 4783410.0000 - val_loss: 26369496973312.0000 - val_mean_absolute_error: 4720625.0000\n",
      "Epoch 40/100\n",
      "13/13 [==============================] - 0s 6ms/step - loss: 26062924808192.0000 - mean_absolute_error: 4782104.0000 - val_loss: 26355490095104.0000 - val_mean_absolute_error: 4719475.0000\n",
      "Epoch 41/100\n",
      "13/13 [==============================] - 0s 4ms/step - loss: 26046801903616.0000 - mean_absolute_error: 4780764.0000 - val_loss: 26339996336128.0000 - val_mean_absolute_error: 4718215.0000\n",
      "Epoch 42/100\n",
      "13/13 [==============================] - 0s 4ms/step - loss: 26029441679360.0000 - mean_absolute_error: 4779324.5000 - val_loss: 26323644841984.0000 - val_mean_absolute_error: 4716885.5000\n",
      "Epoch 43/100\n",
      "13/13 [==============================] - 0s 5ms/step - loss: 26010514882560.0000 - mean_absolute_error: 4777781.5000 - val_loss: 26307328999424.0000 - val_mean_absolute_error: 4715548.0000\n",
      "Epoch 44/100\n",
      "13/13 [==============================] - 0s 5ms/step - loss: 25991298678784.0000 - mean_absolute_error: 4776205.5000 - val_loss: 26289557733376.0000 - val_mean_absolute_error: 4714100.5000\n",
      "Epoch 45/100\n",
      "13/13 [==============================] - 0s 4ms/step - loss: 25970287312896.0000 - mean_absolute_error: 4774505.0000 - val_loss: 26271790661632.0000 - val_mean_absolute_error: 4712644.5000\n",
      "Epoch 46/100\n",
      "13/13 [==============================] - 0s 5ms/step - loss: 25949347250176.0000 - mean_absolute_error: 4772751.5000 - val_loss: 26251743985664.0000 - val_mean_absolute_error: 4711016.5000\n",
      "Epoch 47/100\n",
      "13/13 [==============================] - 0s 5ms/step - loss: 25926712688640.0000 - mean_absolute_error: 4770887.5000 - val_loss: 26231793778688.0000 - val_mean_absolute_error: 4709387.5000\n",
      "Epoch 48/100\n",
      "13/13 [==============================] - 0s 5ms/step - loss: 25903513993216.0000 - mean_absolute_error: 4768971.0000 - val_loss: 26211581427712.0000 - val_mean_absolute_error: 4707731.0000\n",
      "Epoch 49/100\n",
      "13/13 [==============================] - 0s 5ms/step - loss: 25880447418368.0000 - mean_absolute_error: 4767086.5000 - val_loss: 26190444232704.0000 - val_mean_absolute_error: 4706001.5000\n",
      "Epoch 50/100\n",
      "13/13 [==============================] - 0s 5ms/step - loss: 25855862505472.0000 - mean_absolute_error: 4765053.0000 - val_loss: 26168661114880.0000 - val_mean_absolute_error: 4704214.0000\n",
      "Epoch 51/100\n",
      "13/13 [==============================] - 0s 5ms/step - loss: 25829994135552.0000 - mean_absolute_error: 4762934.0000 - val_loss: 26145416282112.0000 - val_mean_absolute_error: 4702315.0000\n",
      "Epoch 52/100\n",
      "13/13 [==============================] - 0s 4ms/step - loss: 25804232720384.0000 - mean_absolute_error: 4760774.5000 - val_loss: 26121519235072.0000 - val_mean_absolute_error: 4700362.0000\n",
      "Epoch 53/100\n",
      "13/13 [==============================] - 0s 4ms/step - loss: 25776038608896.0000 - mean_absolute_error: 4758471.5000 - val_loss: 26097250992128.0000 - val_mean_absolute_error: 4698374.0000\n",
      "Epoch 54/100\n",
      "13/13 [==============================] - 0s 6ms/step - loss: 25748119224320.0000 - mean_absolute_error: 4756177.0000 - val_loss: 26072156471296.0000 - val_mean_absolute_error: 4696314.0000\n",
      "Epoch 55/100\n",
      "13/13 [==============================] - 0s 4ms/step - loss: 25718543089664.0000 - mean_absolute_error: 4753746.0000 - val_loss: 26046634131456.0000 - val_mean_absolute_error: 4694215.0000\n",
      "Epoch 56/100\n",
      "13/13 [==============================] - 0s 6ms/step - loss: 25688201494528.0000 - mean_absolute_error: 4751208.0000 - val_loss: 26018419048448.0000 - val_mean_absolute_error: 4691909.0000\n",
      "Epoch 57/100\n",
      "13/13 [==============================] - 0s 4ms/step - loss: 25655091658752.0000 - mean_absolute_error: 4748508.0000 - val_loss: 25988788387840.0000 - val_mean_absolute_error: 4689493.0000\n",
      "Epoch 58/100\n",
      "13/13 [==============================] - 0s 4ms/step - loss: 25620809515008.0000 - mean_absolute_error: 4745671.5000 - val_loss: 25958912360448.0000 - val_mean_absolute_error: 4687051.0000\n",
      "Epoch 59/100\n",
      "13/13 [==============================] - 0s 4ms/step - loss: 25587007619072.0000 - mean_absolute_error: 4742866.0000 - val_loss: 25927864025088.0000 - val_mean_absolute_error: 4684516.5000\n",
      "Epoch 60/100\n",
      "13/13 [==============================] - 0s 4ms/step - loss: 25552050192384.0000 - mean_absolute_error: 4739954.5000 - val_loss: 25896383676416.0000 - val_mean_absolute_error: 4681931.0000\n",
      "Epoch 61/100\n",
      "13/13 [==============================] - 0s 5ms/step - loss: 25515507318784.0000 - mean_absolute_error: 4736924.5000 - val_loss: 25863902986240.0000 - val_mean_absolute_error: 4679272.5000\n",
      "Epoch 62/100\n",
      "13/13 [==============================] - 0s 5ms/step - loss: 25477540478976.0000 - mean_absolute_error: 4733821.5000 - val_loss: 25831380353024.0000 - val_mean_absolute_error: 4676591.0000\n",
      "Epoch 63/100\n",
      "13/13 [==============================] - 0s 5ms/step - loss: 25439867240448.0000 - mean_absolute_error: 4730634.5000 - val_loss: 25796129325056.0000 - val_mean_absolute_error: 4673704.0000\n",
      "Epoch 64/100\n",
      "13/13 [==============================] - 0s 4ms/step - loss: 25400407228416.0000 - mean_absolute_error: 4727360.0000 - val_loss: 25760389660672.0000 - val_mean_absolute_error: 4670775.0000\n",
      "Epoch 65/100\n",
      "13/13 [==============================] - 0s 4ms/step - loss: 25358743109632.0000 - mean_absolute_error: 4723948.0000 - val_loss: 25725610491904.0000 - val_mean_absolute_error: 4667905.5000\n",
      "Epoch 66/100\n",
      "13/13 [==============================] - 0s 4ms/step - loss: 25319444578304.0000 - mean_absolute_error: 4720643.5000 - val_loss: 25688285380608.0000 - val_mean_absolute_error: 4664839.0000\n",
      "Epoch 67/100\n",
      "13/13 [==============================] - 0s 4ms/step - loss: 25276459253760.0000 - mean_absolute_error: 4717065.0000 - val_loss: 25650266112000.0000 - val_mean_absolute_error: 4661704.5000\n",
      "Epoch 68/100\n",
      "13/13 [==============================] - 0s 4ms/step - loss: 25232205152256.0000 - mean_absolute_error: 4713400.5000 - val_loss: 25611751915520.0000 - val_mean_absolute_error: 4658516.5000\n",
      "Epoch 69/100\n",
      "13/13 [==============================] - 0s 4ms/step - loss: 25187309322240.0000 - mean_absolute_error: 4709681.0000 - val_loss: 25571421585408.0000 - val_mean_absolute_error: 4655189.5000\n",
      "Epoch 70/100\n",
      "13/13 [==============================] - 0s 4ms/step - loss: 25141553659904.0000 - mean_absolute_error: 4705815.0000 - val_loss: 25531028340736.0000 - val_mean_absolute_error: 4651844.0000\n",
      "Epoch 71/100\n",
      "13/13 [==============================] - 0s 5ms/step - loss: 25095376470016.0000 - mean_absolute_error: 4701957.0000 - val_loss: 25489055940608.0000 - val_mean_absolute_error: 4648373.5000\n",
      "Epoch 72/100\n",
      "13/13 [==============================] - 0s 5ms/step - loss: 25046399582208.0000 - mean_absolute_error: 4697849.0000 - val_loss: 25445561008128.0000 - val_mean_absolute_error: 4644783.0000\n",
      "Epoch 73/100\n",
      "13/13 [==============================] - 0s 5ms/step - loss: 24996336369664.0000 - mean_absolute_error: 4693630.5000 - val_loss: 25399771791360.0000 - val_mean_absolute_error: 4641004.5000\n",
      "Epoch 74/100\n",
      "13/13 [==============================] - 0s 5ms/step - loss: 24943687368704.0000 - mean_absolute_error: 4689264.5000 - val_loss: 25354789978112.0000 - val_mean_absolute_error: 4637274.0000\n",
      "Epoch 75/100\n",
      "13/13 [==============================] - 0s 5ms/step - loss: 24893034856448.0000 - mean_absolute_error: 4684951.0000 - val_loss: 25308371615744.0000 - val_mean_absolute_error: 4633422.0000\n",
      "Epoch 76/100\n",
      "13/13 [==============================] - 0s 5ms/step - loss: 24839446331392.0000 - mean_absolute_error: 4680445.5000 - val_loss: 25261458325504.0000 - val_mean_absolute_error: 4629523.0000\n",
      "Epoch 77/100\n",
      "13/13 [==============================] - 0s 4ms/step - loss: 24785161551872.0000 - mean_absolute_error: 4675884.0000 - val_loss: 25211206369280.0000 - val_mean_absolute_error: 4625361.5000\n",
      "Epoch 78/100\n",
      "13/13 [==============================] - 0s 5ms/step - loss: 24727473094656.0000 - mean_absolute_error: 4671036.5000 - val_loss: 25160453193728.0000 - val_mean_absolute_error: 4621155.5000\n",
      "Epoch 79/100\n",
      "13/13 [==============================] - 0s 5ms/step - loss: 24668129984512.0000 - mean_absolute_error: 4666006.5000 - val_loss: 25109016346624.0000 - val_mean_absolute_error: 4616884.0000\n",
      "Epoch 80/100\n",
      "13/13 [==============================] - 0s 4ms/step - loss: 24610502344704.0000 - mean_absolute_error: 4661121.0000 - val_loss: 25055824183296.0000 - val_mean_absolute_error: 4612465.5000\n",
      "Epoch 81/100\n",
      "13/13 [==============================] - 0s 5ms/step - loss: 24548911087616.0000 - mean_absolute_error: 4655996.5000 - val_loss: 25004817252352.0000 - val_mean_absolute_error: 4608185.0000\n",
      "Epoch 82/100\n",
      "13/13 [==============================] - 0s 5ms/step - loss: 24490589290496.0000 - mean_absolute_error: 4650985.0000 - val_loss: 24950639427584.0000 - val_mean_absolute_error: 4603655.0000\n",
      "Epoch 83/100\n",
      "13/13 [==============================] - 0s 4ms/step - loss: 24428899467264.0000 - mean_absolute_error: 4645720.5000 - val_loss: 24896889421824.0000 - val_mean_absolute_error: 4599142.0000\n",
      "Epoch 84/100\n",
      "13/13 [==============================] - 0s 5ms/step - loss: 24367125757952.0000 - mean_absolute_error: 4640495.0000 - val_loss: 24839746224128.0000 - val_mean_absolute_error: 4594372.5000\n",
      "Epoch 85/100\n",
      "13/13 [==============================] - 0s 5ms/step - loss: 24301902233600.0000 - mean_absolute_error: 4634981.0000 - val_loss: 24784821813248.0000 - val_mean_absolute_error: 4589739.0000\n",
      "Epoch 86/100\n",
      "13/13 [==============================] - 0s 4ms/step - loss: 24239902031872.0000 - mean_absolute_error: 4629601.0000 - val_loss: 24726080585728.0000 - val_mean_absolute_error: 4584803.0000\n",
      "Epoch 87/100\n",
      "13/13 [==============================] - 0s 5ms/step - loss: 24174546386944.0000 - mean_absolute_error: 4623959.5000 - val_loss: 24665147834368.0000 - val_mean_absolute_error: 4579691.5000\n",
      "Epoch 88/100\n",
      "13/13 [==============================] - 0s 4ms/step - loss: 24104644116480.0000 - mean_absolute_error: 4618015.5000 - val_loss: 24607461474304.0000 - val_mean_absolute_error: 4574799.0000\n",
      "Epoch 89/100\n",
      "13/13 [==============================] - 0s 5ms/step - loss: 24037726093312.0000 - mean_absolute_error: 4612277.0000 - val_loss: 24547896066048.0000 - val_mean_absolute_error: 4569751.5000\n",
      "Epoch 90/100\n",
      "13/13 [==============================] - 0s 4ms/step - loss: 23969516224512.0000 - mean_absolute_error: 4606376.0000 - val_loss: 24483830169600.0000 - val_mean_absolute_error: 4564343.5000\n",
      "Epoch 91/100\n",
      "13/13 [==============================] - 0s 5ms/step - loss: 23895522410496.0000 - mean_absolute_error: 4600073.0000 - val_loss: 24421708333056.0000 - val_mean_absolute_error: 4559069.0000\n",
      "Epoch 92/100\n",
      "13/13 [==============================] - 0s 5ms/step - loss: 23824275865600.0000 - mean_absolute_error: 4593836.5000 - val_loss: 24353351663616.0000 - val_mean_absolute_error: 4553307.5000\n",
      "Epoch 93/100\n",
      "13/13 [==============================] - 0s 5ms/step - loss: 23745496350720.0000 - mean_absolute_error: 4587052.5000 - val_loss: 24285089366016.0000 - val_mean_absolute_error: 4547522.0000\n",
      "Epoch 94/100\n",
      "13/13 [==============================] - 0s 5ms/step - loss: 23670139387904.0000 - mean_absolute_error: 4580515.0000 - val_loss: 24217443631104.0000 - val_mean_absolute_error: 4541774.0000\n",
      "Epoch 95/100\n",
      "13/13 [==============================] - 0s 5ms/step - loss: 23591865286656.0000 - mean_absolute_error: 4573760.0000 - val_loss: 24150678700032.0000 - val_mean_absolute_error: 4536078.0000\n",
      "Epoch 96/100\n",
      "13/13 [==============================] - 0s 5ms/step - loss: 23516883714048.0000 - mean_absolute_error: 4567181.0000 - val_loss: 24080749166592.0000 - val_mean_absolute_error: 4530118.0000\n",
      "Epoch 97/100\n",
      "13/13 [==============================] - 0s 5ms/step - loss: 23438051770368.0000 - mean_absolute_error: 4560288.0000 - val_loss: 24013313146880.0000 - val_mean_absolute_error: 4524321.5000\n",
      "Epoch 98/100\n",
      "13/13 [==============================] - 0s 5ms/step - loss: 23361860141056.0000 - mean_absolute_error: 4553539.0000 - val_loss: 23944126005248.0000 - val_mean_absolute_error: 4518367.5000\n",
      "Epoch 99/100\n",
      "13/13 [==============================] - 0s 5ms/step - loss: 23285339258880.0000 - mean_absolute_error: 4546715.5000 - val_loss: 23871845564416.0000 - val_mean_absolute_error: 4512156.0000\n",
      "Epoch 100/100\n",
      "13/13 [==============================] - 0s 5ms/step - loss: 23203336421376.0000 - mean_absolute_error: 4539567.0000 - val_loss: 23801045712896.0000 - val_mean_absolute_error: 4506038.5000\n"
     ]
    }
   ],
   "source": [
    "history = model.fit(X_train, y_train, epochs=100, validation_data=(X_test, y_test), callbacks=[early_stopping])"
   ]
  },
  {
   "cell_type": "code",
   "execution_count": 72,
   "id": "bb54b5d0",
   "metadata": {},
   "outputs": [],
   "source": [
    "best_epoch = history.history['val_loss'].index(min(history.history['val_loss']))"
   ]
  },
  {
   "cell_type": "code",
   "execution_count": 74,
   "id": "3b35f045",
   "metadata": {},
   "outputs": [
    {
     "name": "stdout",
     "output_type": "stream",
     "text": [
      "Epoch 1/100\n",
      "13/13 [==============================] - 1s 16ms/step - loss: 26264310120448.0000 - mean_absolute_error: 4798783.0000 - val_loss: 26540224020480.0000 - val_mean_absolute_error: 4734720.5000\n",
      "Epoch 2/100\n",
      "13/13 [==============================] - 0s 5ms/step - loss: 26264284954624.0000 - mean_absolute_error: 4798780.5000 - val_loss: 26540192563200.0000 - val_mean_absolute_error: 4734717.0000\n",
      "Epoch 3/100\n",
      "13/13 [==============================] - 0s 5ms/step - loss: 26264240914432.0000 - mean_absolute_error: 4798776.5000 - val_loss: 26540138037248.0000 - val_mean_absolute_error: 4734712.0000\n",
      "Epoch 4/100\n",
      "13/13 [==============================] - 0s 6ms/step - loss: 26264173805568.0000 - mean_absolute_error: 4798770.0000 - val_loss: 26540049956864.0000 - val_mean_absolute_error: 4734704.0000\n",
      "Epoch 5/100\n",
      "13/13 [==============================] - 0s 5ms/step - loss: 26264058462208.0000 - mean_absolute_error: 4798760.0000 - val_loss: 26539919933440.0000 - val_mean_absolute_error: 4734692.0000\n",
      "Epoch 6/100\n",
      "13/13 [==============================] - 0s 5ms/step - loss: 26263896981504.0000 - mean_absolute_error: 4798745.0000 - val_loss: 26539729092608.0000 - val_mean_absolute_error: 4734674.5000\n",
      "Epoch 7/100\n",
      "13/13 [==============================] - 0s 4ms/step - loss: 26263651614720.0000 - mean_absolute_error: 4798723.5000 - val_loss: 26539460657152.0000 - val_mean_absolute_error: 4734651.0000\n",
      "Epoch 8/100\n",
      "13/13 [==============================] - 0s 5ms/step - loss: 26263311876096.0000 - mean_absolute_error: 4798693.5000 - val_loss: 26539087364096.0000 - val_mean_absolute_error: 4734619.0000\n",
      "Epoch 9/100\n",
      "13/13 [==============================] - 0s 4ms/step - loss: 26262860988416.0000 - mean_absolute_error: 4798655.0000 - val_loss: 26538590339072.0000 - val_mean_absolute_error: 4734576.0000\n",
      "Epoch 10/100\n",
      "13/13 [==============================] - 0s 5ms/step - loss: 26262238134272.0000 - mean_absolute_error: 4798602.5000 - val_loss: 26537954902016.0000 - val_mean_absolute_error: 4734522.5000\n",
      "Epoch 11/100\n",
      "13/13 [==============================] - 0s 5ms/step - loss: 26261462188032.0000 - mean_absolute_error: 4798536.5000 - val_loss: 26537143304192.0000 - val_mean_absolute_error: 4734453.5000\n",
      "Epoch 12/100\n",
      "13/13 [==============================] - 0s 5ms/step - loss: 26260482818048.0000 - mean_absolute_error: 4798455.0000 - val_loss: 26536124088320.0000 - val_mean_absolute_error: 4734368.5000\n",
      "Epoch 13/100\n",
      "13/13 [==============================] - 0s 5ms/step - loss: 26259237109760.0000 - mean_absolute_error: 4798351.0000 - val_loss: 26534888865792.0000 - val_mean_absolute_error: 4734266.0000\n",
      "Epoch 14/100\n",
      "13/13 [==============================] - 0s 5ms/step - loss: 26257754423296.0000 - mean_absolute_error: 4798228.0000 - val_loss: 26533378916352.0000 - val_mean_absolute_error: 4734141.5000\n",
      "Epoch 15/100\n",
      "13/13 [==============================] - 0s 5ms/step - loss: 26255938289664.0000 - mean_absolute_error: 4798078.5000 - val_loss: 26531663446016.0000 - val_mean_absolute_error: 4734000.0000\n",
      "Epoch 16/100\n",
      "13/13 [==============================] - 0s 5ms/step - loss: 26253910343680.0000 - mean_absolute_error: 4797907.0000 - val_loss: 26529589362688.0000 - val_mean_absolute_error: 4733830.0000\n",
      "Epoch 17/100\n",
      "13/13 [==============================] - 0s 6ms/step - loss: 26251400052736.0000 - mean_absolute_error: 4797706.5000 - val_loss: 26527253135360.0000 - val_mean_absolute_error: 4733638.5000\n",
      "Epoch 18/100\n",
      "13/13 [==============================] - 0s 5ms/step - loss: 26248656977920.0000 - mean_absolute_error: 4797475.0000 - val_loss: 26524415688704.0000 - val_mean_absolute_error: 4733408.0000\n",
      "Epoch 19/100\n",
      "13/13 [==============================] - 0s 6ms/step - loss: 26245343477760.0000 - mean_absolute_error: 4797205.0000 - val_loss: 26521370624000.0000 - val_mean_absolute_error: 4733160.5000\n",
      "Epoch 20/100\n",
      "13/13 [==============================] - 0s 5ms/step - loss: 26241671364608.0000 - mean_absolute_error: 4796905.5000 - val_loss: 26517868380160.0000 - val_mean_absolute_error: 4732876.5000\n",
      "Epoch 21/100\n",
      "13/13 [==============================] - 0s 4ms/step - loss: 26237552558080.0000 - mean_absolute_error: 4796569.5000 - val_loss: 26513944608768.0000 - val_mean_absolute_error: 4732558.5000\n",
      "Epoch 22/100\n",
      "13/13 [==============================] - 0s 4ms/step - loss: 26232953503744.0000 - mean_absolute_error: 4796194.0000 - val_loss: 26509563658240.0000 - val_mean_absolute_error: 4732204.0000\n",
      "Epoch 23/100\n",
      "13/13 [==============================] - 0s 6ms/step - loss: 26227693846528.0000 - mean_absolute_error: 4795770.5000 - val_loss: 26504616476672.0000 - val_mean_absolute_error: 4731806.5000\n",
      "Epoch 24/100\n",
      "13/13 [==============================] - 0s 5ms/step - loss: 26221893124096.0000 - mean_absolute_error: 4795301.5000 - val_loss: 26499050635264.0000 - val_mean_absolute_error: 4731361.0000\n",
      "Epoch 25/100\n",
      "13/13 [==============================] - 0s 5ms/step - loss: 26215461158912.0000 - mean_absolute_error: 4794774.0000 - val_loss: 26493107306496.0000 - val_mean_absolute_error: 4730883.5000\n",
      "Epoch 26/100\n",
      "13/13 [==============================] - 0s 5ms/step - loss: 26208657997824.0000 - mean_absolute_error: 4794221.0000 - val_loss: 26486782296064.0000 - val_mean_absolute_error: 4730375.0000\n",
      "Epoch 27/100\n",
      "13/13 [==============================] - 0s 4ms/step - loss: 26201213108224.0000 - mean_absolute_error: 4793615.5000 - val_loss: 26479779905536.0000 - val_mean_absolute_error: 4729815.5000\n",
      "Epoch 28/100\n",
      "13/13 [==============================] - 0s 5ms/step - loss: 26192929357824.0000 - mean_absolute_error: 4792952.0000 - val_loss: 26472286781440.0000 - val_mean_absolute_error: 4729214.5000\n",
      "Epoch 29/100\n",
      "13/13 [==============================] - 0s 6ms/step - loss: 26184404434944.0000 - mean_absolute_error: 4792251.5000 - val_loss: 26464099500032.0000 - val_mean_absolute_error: 4728560.0000\n",
      "Epoch 30/100\n",
      "13/13 [==============================] - 0s 5ms/step - loss: 26174935793664.0000 - mean_absolute_error: 4791492.5000 - val_loss: 26455423582208.0000 - val_mean_absolute_error: 4727867.0000\n",
      "Epoch 31/100\n",
      "13/13 [==============================] - 0s 5ms/step - loss: 26164598931456.0000 - mean_absolute_error: 4790667.5000 - val_loss: 26446259027968.0000 - val_mean_absolute_error: 4727134.5000\n",
      "Epoch 32/100\n",
      "13/13 [==============================] - 0s 5ms/step - loss: 26153624535040.0000 - mean_absolute_error: 4789775.5000 - val_loss: 26436299653120.0000 - val_mean_absolute_error: 4726340.0000\n",
      "Epoch 33/100\n",
      "13/13 [==============================] - 0s 5ms/step - loss: 26142203445248.0000 - mean_absolute_error: 4788847.5000 - val_loss: 26425228787712.0000 - val_mean_absolute_error: 4725461.0000\n",
      "Epoch 34/100\n",
      "13/13 [==============================] - 0s 5ms/step - loss: 26129066885120.0000 - mean_absolute_error: 4787802.5000 - val_loss: 26413858029568.0000 - val_mean_absolute_error: 4724553.0000\n",
      "Epoch 35/100\n",
      "13/13 [==============================] - 0s 6ms/step - loss: 26115890479104.0000 - mean_absolute_error: 4786730.5000 - val_loss: 26401495318528.0000 - val_mean_absolute_error: 4723570.5000\n",
      "Epoch 36/100\n",
      "13/13 [==============================] - 0s 5ms/step - loss: 26101879406592.0000 - mean_absolute_error: 4785594.0000 - val_loss: 26388331495424.0000 - val_mean_absolute_error: 4722525.0000\n",
      "Epoch 37/100\n",
      "13/13 [==============================] - 0s 5ms/step - loss: 26086484213760.0000 - mean_absolute_error: 4784357.0000 - val_loss: 26375062814720.0000 - val_mean_absolute_error: 4721467.5000\n",
      "Epoch 38/100\n",
      "13/13 [==============================] - 0s 4ms/step - loss: 26071040786432.0000 - mean_absolute_error: 4783107.5000 - val_loss: 26360363876352.0000 - val_mean_absolute_error: 4720300.0000\n",
      "Epoch 39/100\n",
      "13/13 [==============================] - 0s 4ms/step - loss: 26054175490048.0000 - mean_absolute_error: 4781755.5000 - val_loss: 26345113387008.0000 - val_mean_absolute_error: 4719088.0000\n",
      "Epoch 40/100\n",
      "13/13 [==============================] - 0s 5ms/step - loss: 26035921879040.0000 - mean_absolute_error: 4780286.5000 - val_loss: 26329206489088.0000 - val_mean_absolute_error: 4717820.0000\n",
      "Epoch 41/100\n",
      "13/13 [==============================] - 0s 5ms/step - loss: 26017649393664.0000 - mean_absolute_error: 4778798.0000 - val_loss: 26312024522752.0000 - val_mean_absolute_error: 4716455.0000\n",
      "Epoch 42/100\n",
      "13/13 [==============================] - 0s 5ms/step - loss: 25997988593664.0000 - mean_absolute_error: 4777212.0000 - val_loss: 26293336801280.0000 - val_mean_absolute_error: 4714981.0000\n",
      "Epoch 43/100\n",
      "13/13 [==============================] - 0s 5ms/step - loss: 25976421482496.0000 - mean_absolute_error: 4775475.0000 - val_loss: 26274955264000.0000 - val_mean_absolute_error: 4713518.0000\n",
      "Epoch 44/100\n",
      "13/13 [==============================] - 0s 5ms/step - loss: 25954829205504.0000 - mean_absolute_error: 4773760.5000 - val_loss: 26255544025088.0000 - val_mean_absolute_error: 4711976.5000\n",
      "Epoch 45/100\n",
      "13/13 [==============================] - 0s 4ms/step - loss: 25931919917056.0000 - mean_absolute_error: 4771899.5000 - val_loss: 26234465550336.0000 - val_mean_absolute_error: 4710305.0000\n",
      "Epoch 46/100\n",
      "13/13 [==============================] - 0s 5ms/step - loss: 25908666695680.0000 - mean_absolute_error: 4770008.5000 - val_loss: 26212971839488.0000 - val_mean_absolute_error: 4708597.5000\n",
      "Epoch 47/100\n",
      "13/13 [==============================] - 0s 4ms/step - loss: 25883213561856.0000 - mean_absolute_error: 4767993.5000 - val_loss: 26191702523904.0000 - val_mean_absolute_error: 4706900.5000\n",
      "Epoch 48/100\n",
      "13/13 [==============================] - 0s 5ms/step - loss: 25858530082816.0000 - mean_absolute_error: 4765978.5000 - val_loss: 26168895995904.0000 - val_mean_absolute_error: 4705087.5000\n",
      "Epoch 49/100\n",
      "13/13 [==============================] - 0s 5ms/step - loss: 25832005304320.0000 - mean_absolute_error: 4763844.0000 - val_loss: 26145443545088.0000 - val_mean_absolute_error: 4703218.0000\n",
      "Epoch 50/100\n",
      "13/13 [==============================] - 0s 5ms/step - loss: 25804882837504.0000 - mean_absolute_error: 4761652.5000 - val_loss: 26121022210048.0000 - val_mean_absolute_error: 4701272.5000\n",
      "Epoch 51/100\n",
      "13/13 [==============================] - 0s 5ms/step - loss: 25776428679168.0000 - mean_absolute_error: 4759321.5000 - val_loss: 26094432419840.0000 - val_mean_absolute_error: 4699163.0000\n",
      "Epoch 52/100\n",
      "13/13 [==============================] - 0s 4ms/step - loss: 25745881563136.0000 - mean_absolute_error: 4756856.0000 - val_loss: 26067991527424.0000 - val_mean_absolute_error: 4697051.0000\n",
      "Epoch 53/100\n",
      "13/13 [==============================] - 0s 4ms/step - loss: 25714990514176.0000 - mean_absolute_error: 4754350.0000 - val_loss: 26039694655488.0000 - val_mean_absolute_error: 4694802.0000\n",
      "Epoch 54/100\n",
      "13/13 [==============================] - 0s 4ms/step - loss: 25681962467328.0000 - mean_absolute_error: 4751702.5000 - val_loss: 26010877689856.0000 - val_mean_absolute_error: 4692506.0000\n",
      "Epoch 55/100\n",
      "13/13 [==============================] - 0s 5ms/step - loss: 25649165107200.0000 - mean_absolute_error: 4749051.5000 - val_loss: 25980458500096.0000 - val_mean_absolute_error: 4690083.0000\n",
      "Epoch 56/100\n",
      "13/13 [==============================] - 0s 5ms/step - loss: 25614373355520.0000 - mean_absolute_error: 4746212.5000 - val_loss: 25949894606848.0000 - val_mean_absolute_error: 4687643.5000\n",
      "Epoch 57/100\n",
      "13/13 [==============================] - 0s 5ms/step - loss: 25577465577472.0000 - mean_absolute_error: 4743278.5000 - val_loss: 25918584127488.0000 - val_mean_absolute_error: 4685142.0000\n",
      "Epoch 58/100\n",
      "13/13 [==============================] - 0s 5ms/step - loss: 25541000298496.0000 - mean_absolute_error: 4740292.0000 - val_loss: 25884371189760.0000 - val_mean_absolute_error: 4682415.0000\n",
      "Epoch 59/100\n",
      "13/13 [==============================] - 0s 5ms/step - loss: 25503173967872.0000 - mean_absolute_error: 4737189.5000 - val_loss: 25850084851712.0000 - val_mean_absolute_error: 4679680.5000\n",
      "Epoch 60/100\n",
      "13/13 [==============================] - 0s 5ms/step - loss: 25464313741312.0000 - mean_absolute_error: 4734014.0000 - val_loss: 25815301488640.0000 - val_mean_absolute_error: 4676896.0000\n",
      "Epoch 61/100\n",
      "13/13 [==============================] - 0s 5ms/step - loss: 25423813541888.0000 - mean_absolute_error: 4730735.0000 - val_loss: 25779687653376.0000 - val_mean_absolute_error: 4674042.0000\n",
      "Epoch 62/100\n",
      "13/13 [==============================] - 0s 5ms/step - loss: 25382705168384.0000 - mean_absolute_error: 4727377.0000 - val_loss: 25741731299328.0000 - val_mean_absolute_error: 4671007.5000\n",
      "Epoch 63/100\n",
      "13/13 [==============================] - 0s 5ms/step - loss: 25339407368192.0000 - mean_absolute_error: 4723893.0000 - val_loss: 25704693497856.0000 - val_mean_absolute_error: 4668037.0000\n",
      "Epoch 64/100\n",
      "13/13 [==============================] - 0s 5ms/step - loss: 25297638391808.0000 - mean_absolute_error: 4720425.0000 - val_loss: 25665900380160.0000 - val_mean_absolute_error: 4664921.5000\n",
      "Epoch 65/100\n",
      "13/13 [==============================] - 0s 5ms/step - loss: 25253633851392.0000 - mean_absolute_error: 4716770.5000 - val_loss: 25625846874112.0000 - val_mean_absolute_error: 4661700.5000\n",
      "Epoch 66/100\n",
      "13/13 [==============================] - 0s 5ms/step - loss: 25207693639680.0000 - mean_absolute_error: 4713013.5000 - val_loss: 25584117743616.0000 - val_mean_absolute_error: 4658351.5000\n",
      "Epoch 67/100\n",
      "13/13 [==============================] - 0s 5ms/step - loss: 25159094239232.0000 - mean_absolute_error: 4709112.5000 - val_loss: 25542858375168.0000 - val_mean_absolute_error: 4655025.0000\n",
      "Epoch 68/100\n",
      "13/13 [==============================] - 0s 5ms/step - loss: 25109930704896.0000 - mean_absolute_error: 4705019.0000 - val_loss: 25498002391040.0000 - val_mean_absolute_error: 4651419.5000\n",
      "Epoch 69/100\n",
      "13/13 [==============================] - 0s 5ms/step - loss: 25059294969856.0000 - mean_absolute_error: 4700850.5000 - val_loss: 25452192202752.0000 - val_mean_absolute_error: 4647735.5000\n",
      "Epoch 70/100\n",
      "13/13 [==============================] - 0s 5ms/step - loss: 25006843101184.0000 - mean_absolute_error: 4696552.5000 - val_loss: 25405675274240.0000 - val_mean_absolute_error: 4643986.0000\n",
      "Epoch 71/100\n",
      "13/13 [==============================] - 0s 5ms/step - loss: 24954598850560.0000 - mean_absolute_error: 4692236.5000 - val_loss: 25358474674176.0000 - val_mean_absolute_error: 4640179.5000\n",
      "Epoch 72/100\n",
      "13/13 [==============================] - 0s 5ms/step - loss: 24900079190016.0000 - mean_absolute_error: 4687749.0000 - val_loss: 25312026951680.0000 - val_mean_absolute_error: 4636416.5000\n",
      "Epoch 73/100\n",
      "13/13 [==============================] - 0s 5ms/step - loss: 24845922336768.0000 - mean_absolute_error: 4683268.5000 - val_loss: 25263303819264.0000 - val_mean_absolute_error: 4632466.5000\n",
      "Epoch 74/100\n",
      "13/13 [==============================] - 0s 5ms/step - loss: 24788087078912.0000 - mean_absolute_error: 4678515.0000 - val_loss: 25213783769088.0000 - val_mean_absolute_error: 4628440.0000\n",
      "Epoch 75/100\n",
      "13/13 [==============================] - 0s 6ms/step - loss: 24732770500608.0000 - mean_absolute_error: 4673868.0000 - val_loss: 25160004403200.0000 - val_mean_absolute_error: 4624092.0000\n",
      "Epoch 76/100\n",
      "13/13 [==============================] - 0s 4ms/step - loss: 24672500449280.0000 - mean_absolute_error: 4668882.0000 - val_loss: 25107923730432.0000 - val_mean_absolute_error: 4619850.0000\n",
      "Epoch 77/100\n",
      "13/13 [==============================] - 0s 5ms/step - loss: 24613283168256.0000 - mean_absolute_error: 4663918.5000 - val_loss: 25054865784832.0000 - val_mean_absolute_error: 4615521.0000\n",
      "Epoch 78/100\n",
      "13/13 [==============================] - 0s 5ms/step - loss: 24552457371648.0000 - mean_absolute_error: 4658857.5000 - val_loss: 25001210150912.0000 - val_mean_absolute_error: 4611136.0000\n",
      "Epoch 79/100\n",
      "13/13 [==============================] - 0s 6ms/step - loss: 24490541056000.0000 - mean_absolute_error: 4653620.0000 - val_loss: 24942959656960.0000 - val_mean_absolute_error: 4606404.0000\n",
      "Epoch 80/100\n",
      "13/13 [==============================] - 0s 5ms/step - loss: 24424367521792.0000 - mean_absolute_error: 4648192.0000 - val_loss: 24886217015296.0000 - val_mean_absolute_error: 4601766.0000\n",
      "Epoch 81/100\n",
      "13/13 [==============================] - 0s 5ms/step - loss: 24359219494912.0000 - mean_absolute_error: 4642747.0000 - val_loss: 24828893462528.0000 - val_mean_absolute_error: 4597071.0000\n",
      "Epoch 82/100\n",
      "13/13 [==============================] - 0s 5ms/step - loss: 24295537377280.0000 - mean_absolute_error: 4637349.5000 - val_loss: 24770405990400.0000 - val_mean_absolute_error: 4592263.0000\n",
      "Epoch 83/100\n",
      "13/13 [==============================] - 0s 5ms/step - loss: 24228604674048.0000 - mean_absolute_error: 4631719.5000 - val_loss: 24712233091072.0000 - val_mean_absolute_error: 4587464.5000\n",
      "Epoch 84/100\n",
      "13/13 [==============================] - 0s 5ms/step - loss: 24160417873920.0000 - mean_absolute_error: 4626005.5000 - val_loss: 24650528587776.0000 - val_mean_absolute_error: 4582400.5000\n",
      "Epoch 85/100\n",
      "13/13 [==============================] - 0s 4ms/step - loss: 24089647382528.0000 - mean_absolute_error: 4620030.5000 - val_loss: 24586861150208.0000 - val_mean_absolute_error: 4577168.5000\n",
      "Epoch 86/100\n",
      "13/13 [==============================] - 0s 5ms/step - loss: 24015622111232.0000 - mean_absolute_error: 4613758.5000 - val_loss: 24524347146240.0000 - val_mean_absolute_error: 4572001.5000\n",
      "Epoch 87/100\n",
      "13/13 [==============================] - 0s 5ms/step - loss: 23945138929664.0000 - mean_absolute_error: 4607777.5000 - val_loss: 24455348748288.0000 - val_mean_absolute_error: 4566333.5000\n",
      "Epoch 88/100\n",
      "13/13 [==============================] - 0s 5ms/step - loss: 23868334931968.0000 - mean_absolute_error: 4601161.0000 - val_loss: 24389416386560.0000 - val_mean_absolute_error: 4560873.5000\n",
      "Epoch 89/100\n",
      "13/13 [==============================] - 0s 5ms/step - loss: 23791243624448.0000 - mean_absolute_error: 4594759.5000 - val_loss: 24323072983040.0000 - val_mean_absolute_error: 4555375.0000\n",
      "Epoch 90/100\n",
      "13/13 [==============================] - 0s 5ms/step - loss: 23716192845824.0000 - mean_absolute_error: 4588240.5000 - val_loss: 24252164079616.0000 - val_mean_absolute_error: 4549507.0000\n",
      "Epoch 91/100\n",
      "13/13 [==============================] - 0s 5ms/step - loss: 23634995314688.0000 - mean_absolute_error: 4581326.5000 - val_loss: 24181190164480.0000 - val_mean_absolute_error: 4543617.5000\n",
      "Epoch 92/100\n",
      "13/13 [==============================] - 0s 5ms/step - loss: 23555519545344.0000 - mean_absolute_error: 4574535.5000 - val_loss: 24110054768640.0000 - val_mean_absolute_error: 4537687.5000\n",
      "Epoch 93/100\n",
      "13/13 [==============================] - 0s 5ms/step - loss: 23475485933568.0000 - mean_absolute_error: 4567563.0000 - val_loss: 24032833437696.0000 - val_mean_absolute_error: 4531281.0000\n",
      "Epoch 94/100\n",
      "13/13 [==============================] - 0s 5ms/step - loss: 23388271673344.0000 - mean_absolute_error: 4560135.0000 - val_loss: 23958657171456.0000 - val_mean_absolute_error: 4525083.0000\n",
      "Epoch 95/100\n",
      "13/13 [==============================] - 0s 5ms/step - loss: 23303886471168.0000 - mean_absolute_error: 4552860.5000 - val_loss: 23883876925440.0000 - val_mean_absolute_error: 4518813.0000\n",
      "Epoch 96/100\n",
      "13/13 [==============================] - 0s 5ms/step - loss: 23220570816512.0000 - mean_absolute_error: 4545654.5000 - val_loss: 23808907935744.0000 - val_mean_absolute_error: 4512511.5000\n",
      "Epoch 97/100\n",
      "13/13 [==============================] - 0s 5ms/step - loss: 23136338706432.0000 - mean_absolute_error: 4538295.5000 - val_loss: 23732057800704.0000 - val_mean_absolute_error: 4506038.5000\n",
      "Epoch 98/100\n",
      "13/13 [==============================] - 0s 6ms/step - loss: 23050405806080.0000 - mean_absolute_error: 4530836.5000 - val_loss: 23656038137856.0000 - val_mean_absolute_error: 4499608.0000\n",
      "Epoch 99/100\n",
      "13/13 [==============================] - 0s 5ms/step - loss: 22963084591104.0000 - mean_absolute_error: 4523212.5000 - val_loss: 23578326073344.0000 - val_mean_absolute_error: 4493018.5000\n",
      "Epoch 100/100\n",
      "13/13 [==============================] - 0s 5ms/step - loss: 22873391497216.0000 - mean_absolute_error: 4515382.5000 - val_loss: 23495786364928.0000 - val_mean_absolute_error: 4486032.0000\n"
     ]
    },
    {
     "data": {
      "text/plain": [
       "<keras.src.callbacks.History at 0x1ac88f91bb0>"
      ]
     },
     "execution_count": 74,
     "metadata": {},
     "output_type": "execute_result"
    }
   ],
   "source": [
    "best_model = keras.Sequential()\n",
    "best_model.add(layers.Input(shape=(12,)))\n",
    "best_model.add(layers.Dense(units=units1, activation=activation1))\n",
    "best_model.add(layers.Dense(units=units2, activation=activation2))\n",
    "best_model.add(layers.Dense(1, activation='linear'))\n",
    "\n",
    "best_model.compile(optimizer=keras.optimizers.Adam(learning_rate=lr),\n",
    "                   loss='mean_squared_error',\n",
    "                   metrics=['mean_absolute_error'])\n",
    "\n",
    "best_model.fit(X_train, y_train, epochs=best_epoch + 1, validation_data=(X_test, y_test))\n"
   ]
  },
  {
   "cell_type": "code",
   "execution_count": 76,
   "id": "2a3d1993",
   "metadata": {},
   "outputs": [
    {
     "name": "stdout",
     "output_type": "stream",
     "text": [
      "4/4 [==============================] - 0s 3ms/step\n"
     ]
    }
   ],
   "source": [
    "y_pred = best_model.predict(X_test)\n",
    "y_pred = (y_pred > 0.5)"
   ]
  },
  {
   "cell_type": "code",
   "execution_count": 77,
   "id": "e9ebcf85",
   "metadata": {},
   "outputs": [
    {
     "name": "stdout",
     "output_type": "stream",
     "text": [
      "MAE: 4734721.222222222\n"
     ]
    }
   ],
   "source": [
    "mae = mean_absolute_error(y_test, y_pred)\n",
    "print('MAE:', mae)"
   ]
  },
  {
   "cell_type": "code",
   "execution_count": 78,
   "id": "10d9f433",
   "metadata": {},
   "outputs": [
    {
     "name": "stdout",
     "output_type": "stream",
     "text": [
      "MSE: 26540234341162.617\n"
     ]
    }
   ],
   "source": [
    "mse = mean_squared_error(y_test, y_pred)\n",
    "print('MSE:', mse)"
   ]
  },
  {
   "cell_type": "code",
   "execution_count": 79,
   "id": "8cddaf3c",
   "metadata": {},
   "outputs": [
    {
     "name": "stdout",
     "output_type": "stream",
     "text": [
      "RMSE: 5151721.492973259\n"
     ]
    }
   ],
   "source": [
    "rmse = mean_squared_error(y_test, y_pred, squared=False)\n",
    "print('RMSE:', rmse)"
   ]
  },
  {
   "cell_type": "code",
   "execution_count": 80,
   "id": "4bdcd076",
   "metadata": {},
   "outputs": [
    {
     "name": "stdout",
     "output_type": "stream",
     "text": [
      "R-squared (R2): -5.437664831682312\n"
     ]
    }
   ],
   "source": [
    "r2 = r2_score(y_test, y_pred)\n",
    "print('R-squared (R2):', r2)\n"
   ]
  },
  {
   "cell_type": "code",
   "execution_count": 81,
   "id": "e42b8582",
   "metadata": {},
   "outputs": [
    {
     "data": {
      "image/png": "[encoded data removed]",
      "text/plain": [
       "<Figure size 432x288 with 1 Axes>"
      ]
     },
     "metadata": {
      "needs_background": "light"
     },
     "output_type": "display_data"
    }
   ],
   "source": [
    "plt.plot(history.history['loss'], label='Training Loss')\n",
    "plt.plot(history.history['val_loss'], label='Validation Loss')\n",
    "plt.xlabel('Epoch')\n",
    "plt.ylabel('Mean Squared Error')\n",
    "plt.legend()\n",
    "plt.show()\n"
   ]
  },
  {
   "cell_type": "markdown",
   "id": "b34ad502",
   "metadata": {},
   "source": [
    "# Trying other Models"
   ]
  },
  {
   "cell_type": "code",
   "execution_count": 82,
   "id": "f03308e4",
   "metadata": {},
   "outputs": [],
   "source": [
    "from sklearn.linear_model import LinearRegression\n",
    "lr=LinearRegression()\n",
    "lr_model=lr.fit(X_train,y_train)"
   ]
  },
  {
   "cell_type": "code",
   "execution_count": 84,
   "id": "14286d42",
   "metadata": {},
   "outputs": [],
   "source": [
    "y_pred=lr_model.predict(X_test)"
   ]
  },
  {
   "cell_type": "code",
   "execution_count": 85,
   "id": "8a6462dc",
   "metadata": {},
   "outputs": [
    {
     "data": {
      "text/plain": [
       "0.6913773458621097"
      ]
     },
     "execution_count": 85,
     "metadata": {},
     "output_type": "execute_result"
    }
   ],
   "source": [
    "lr_model.score(X_test,y_test)"
   ]
  },
  {
   "cell_type": "code",
   "execution_count": 86,
   "id": "a1e0d21b",
   "metadata": {},
   "outputs": [
    {
     "data": {
      "text/plain": [
       "array([0.70196928, 0.60575256, 0.63983643, 0.6826576 , 0.76048246])"
      ]
     },
     "execution_count": 86,
     "metadata": {},
     "output_type": "execute_result"
    }
   ],
   "source": [
    "from sklearn.model_selection import ShuffleSplit\n",
    "from sklearn.model_selection import cross_val_score\n",
    "\n",
    "cv = ShuffleSplit(n_splits=5, test_size=0.2, random_state=7)\n",
    "\n",
    "cross_val_score(LinearRegression(), X, y, cv=cv)\n"
   ]
  },
  {
   "cell_type": "code",
   "execution_count": 87,
   "id": "1ab61f40",
   "metadata": {},
   "outputs": [
    {
     "name": "stdout",
     "output_type": "stream",
     "text": [
      "Model: LinearRegression\n",
      "R-squared (R2): 0.6913773458621097\n",
      "\n",
      "Model: LogisticRegression\n",
      "R-squared (R2): 0.344463613265132\n",
      "\n",
      "Model: DecisionTreeRegressor\n",
      "R-squared (R2): 0.3990916886452279\n",
      "\n",
      "Model: RandomForestRegressor\n",
      "R-squared (R2): 0.6432082847973488\n",
      "\n",
      "Model: Ridge\n",
      "R-squared (R2): 0.691254661730216\n",
      "\n",
      "Model: Lasso\n",
      "R-squared (R2): 0.6913771187458924\n",
      "\n",
      "Model: KNeighborsClassifier\n",
      "R-squared (R2): 0.0492178717192725\n",
      "\n",
      "Model: GradientBoostingRegressor\n",
      "R-squared (R2): 0.6792062971400654\n",
      "\n",
      "Model: SVR\n",
      "R-squared (R2): -0.026672411668684726\n",
      "\n"
     ]
    },
    {
     "name": "stderr",
     "output_type": "stream",
     "text": [
      "C:\\Users\\ASUS\\anaconda3\\lib\\site-packages\\sklearn\\neighbors\\_classification.py:211: FutureWarning: Unlike other reduction functions (e.g. `skew`, `kurtosis`), the default behavior of `mode` typically preserves the axis it acts along. In SciPy 1.11.0, this behavior will change: the default value of `keepdims` will become False, the `axis` over which the statistic is taken will be eliminated, and the value None will no longer be accepted. Set `keepdims` to True or False to avoid this warning.\n",
      "  mode, _ = stats.mode(_y[neigh_ind, k], axis=1)\n"
     ]
    }
   ],
   "source": [
    "from sklearn.linear_model import LinearRegression, Ridge, Lasso, LogisticRegression\n",
    "from sklearn.tree import DecisionTreeRegressor\n",
    "from sklearn.neighbors import KNeighborsClassifier\n",
    "from sklearn.ensemble import RandomForestRegressor,GradientBoostingRegressor\n",
    "from sklearn.metrics import r2_score\n",
    "from sklearn.svm import SVR\n",
    "\n",
    "models=[(\"LinearRegression\",LinearRegression()),\n",
    "        (\"LogisticRegression\",LogisticRegression()),\n",
    "        (\"DecisionTreeRegressor\",DecisionTreeRegressor(random_state=42)),\n",
    "        (\"RandomForestRegressor\",RandomForestRegressor(random_state=42)),\n",
    "        (\"Ridge\",Ridge()),\n",
    "        (\"Lasso\",Lasso()),\n",
    "        (\"KNeighborsClassifier\",KNeighborsClassifier()),\n",
    "        (\"GradientBoostingRegressor\",GradientBoostingRegressor()),\n",
    "        (\"SVR\",SVR())]\n",
    "\n",
    "for name,model in models:\n",
    "    model.fit(X_train,y_train)\n",
    "    y_pred=model.predict(X_test)\n",
    "    r2=r2_score(y_test,y_pred)\n",
    "    print(f'Model: {name}')\n",
    "    print(f'R-squared (R2): {r2}\\n')"
   ]
  },
  {
   "cell_type": "code",
   "execution_count": 95,
   "id": "13863b20",
   "metadata": {},
   "outputs": [
    {
     "data": {
      "text/plain": [
       "['E:/ANN Practice/House Price Predicition/Predicting_Housing_Price.pkl']"
      ]
     },
     "execution_count": 95,
     "metadata": {},
     "output_type": "execute_result"
    }
   ],
   "source": [
    "import joblib\n",
    "joblib.dump(model,\"E:/ANN Practice/House Price Predicition/Predicting_Housing_Price.pkl\")"
   ]
  },
  {
   "cell_type": "code",
   "execution_count": 98,
   "id": "1b10bc5e",
   "metadata": {},
   "outputs": [
    {
     "name": "stdout",
     "output_type": "stream",
     "text": [
      "Please provide the following information:\n",
      "Print if your answer yes then 1 else 0\n",
      "Print if Furnishing status options: furnished=0, semi-furnished=1, unfurnished=2\n",
      "Area in square feet: 6500\n",
      "Number of bedrooms: 4\n",
      "Number of bathrooms: 2\n",
      "Number of stories: 2\n",
      "Main road access (yes=1/no=0): 1\n",
      "Guest room available (yes=1/no=0): 1\n",
      "Basement available (yes=1/no=0): 0\n",
      "Hot water heating (yes=1/no=0): 1\n",
      "Air conditioning (yes=1/no=0): 1\n",
      "Number of parking spaces: 2\n",
      "Preferred area yes=1/no=0): 1\n",
      "Furnishing status: 0\n",
      "Predicted Housing Price: Rs27,947,526.37 \n"
     ]
    }
   ],
   "source": [
    "import joblib\n",
    "\n",
    "model = joblib.load(\"E:/ANN Practice/House Price Predicition/Predicting_Housing_Price.pkl\")\n",
    "\n",
    "def get_user_inputs():\n",
    "    print(\"Please provide the following information:\")\n",
    "    print(\"Print if your answer yes then 1 else 0\")\n",
    "    print(\"Print if Furnishing status options: furnished=0, semi-furnished=1, unfurnished=2\")\n",
    "    area = float(input(\"Area in square feet: \"))\n",
    "    bedrooms = int(input(\"Number of bedrooms: \"))\n",
    "    bathrooms = int(input(\"Number of bathrooms: \"))\n",
    "    stories = int(input(\"Number of stories: \"))\n",
    "    mainroad = int(input(\"Main road access (yes=1/no=0): \"))\n",
    "    guestroom = int(input(\"Guest room available (yes=1/no=0): \"))\n",
    "    basement = int(input(\"Basement available (yes=1/no=0): \"))\n",
    "    hotwaterheating = int(input(\"Hot water heating (yes=1/no=0): \"))\n",
    "    airconditioning = int(input(\"Air conditioning (yes=1/no=0): \"))\n",
    "    parking = int(input(\"Number of parking spaces: \"))\n",
    "    prefarea = int(input(\"Preferred area yes=1/no=0): \"))\n",
    "    furnishingstatus =int(input(\"Furnishing status: \"))\n",
    "    \n",
    "    \n",
    "    user_inputs = {\n",
    "        \"area\": area,\n",
    "        \"bedrooms\": bedrooms,\n",
    "        \"bathrooms\": bathrooms,\n",
    "        \"stories\": stories,\n",
    "        \"mainroad\": mainroad,\n",
    "        \"guestroom\": guestroom,\n",
    "        \"basement\": basement,\n",
    "        \"hotwaterheating\": hotwaterheating,\n",
    "        \"airconditioning\": airconditioning,\n",
    "        \"parking\":parking,\n",
    "        \"prefarea\": prefarea,\n",
    "        \"furnishingstatus\":furnishingstatus\n",
    "    }\n",
    "    \n",
    "    return user_inputs\n",
    "\n",
    "\n",
    "user_inputs = get_user_inputs()\n",
    "\n",
    "user_df = pd.DataFrame([user_inputs])\n",
    "\n",
    "predicted_price = model.predict(user_df)\n",
    "\n",
    "print(f\"Predicted Housing Price: Rs {predicted_price[0]/100:,.2f} \")"
   ]
  },
  {
   "cell_type": "code",
   "execution_count": null,
   "id": "f78559e9",
   "metadata": {},
   "outputs": [],
   "source": []
  }
 ],
 "metadata": {
  "kernelspec": {
   "display_name": "Python 3",
   "language": "python",
   "name": "python3"
  },
  "language_info": {
   "codemirror_mode": {
    "name": "ipython",
    "version": 3
   },
   "file_extension": ".py",
   "mimetype": "text/x-python",
   "name": "python",
   "nbconvert_exporter": "python",
   "pygments_lexer": "ipython3",
   "version": "3.8.8"
  }
 },
 "nbformat": 4,
 "nbformat_minor": 5
}
